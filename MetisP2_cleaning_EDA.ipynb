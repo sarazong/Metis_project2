{
 "cells": [
  {
   "cell_type": "markdown",
   "id": "serial-folks",
   "metadata": {},
   "source": [
    "## DATA CLEANING AND EDA"
   ]
  },
  {
   "cell_type": "code",
   "execution_count": 1,
   "id": "liable-dynamics",
   "metadata": {},
   "outputs": [],
   "source": [
    "#import required packages\n",
    "import numpy as np\n",
    "import pandas as pd\n",
    "import matplotlib.pyplot as plt\n",
    "import seaborn as sns\n",
    "\n",
    "%matplotlib inline"
   ]
  },
  {
   "cell_type": "code",
   "execution_count": 3,
   "id": "outside-gnome",
   "metadata": {},
   "outputs": [],
   "source": [
    "df = pd.read_pickle(\"project2_data/SFproperty_df\")"
   ]
  },
  {
   "cell_type": "code",
   "execution_count": 4,
   "id": "wireless-information",
   "metadata": {
    "scrolled": true
   },
   "outputs": [
    {
     "name": "stdout",
     "output_type": "stream",
     "text": [
      "<class 'pandas.core.frame.DataFrame'>\n",
      "RangeIndex: 1182 entries, 0 to 1181\n",
      "Data columns (total 14 columns):\n",
      " #   Column      Non-Null Count  Dtype \n",
      "---  ------      --------------  ----- \n",
      " 0   Address     1182 non-null   object\n",
      " 1   Location    1182 non-null   object\n",
      " 2   Price       1182 non-null   object\n",
      " 3   Beds        1182 non-null   object\n",
      " 4   Baths       1182 non-null   object\n",
      " 5   Sq.Ft.      1182 non-null   object\n",
      " 6   $/Sq.Ft.    1182 non-null   object\n",
      " 7   On Redfin   1182 non-null   object\n",
      " 8   HOA         1182 non-null   object\n",
      " 9   Year Built  1182 non-null   object\n",
      " 10  Lot Size    1182 non-null   object\n",
      " 11  Date Sold   1182 non-null   object\n",
      " 12  Zip Code    1182 non-null   object\n",
      " 13  prop_type   1182 non-null   object\n",
      "dtypes: object(14)\n",
      "memory usage: 129.4+ KB\n"
     ]
    }
   ],
   "source": [
    "df.info()"
   ]
  },
  {
   "cell_type": "markdown",
   "id": "surprised-waters",
   "metadata": {},
   "source": [
    "### Checking features and target in the dataset"
   ]
  },
  {
   "cell_type": "code",
   "execution_count": 5,
   "id": "several-stupid",
   "metadata": {
    "scrolled": true
   },
   "outputs": [
    {
     "name": "stdout",
     "output_type": "stream",
     "text": [
      "           Address              Location       Price Beds Baths Sq.Ft.  \\\n",
      "599  2031 Hayes St  San Francisco County  $1,800,000    3   2.5  1,670   \n",
      "698  2031 Hayes St                        $1,800,000    3     3      —   \n",
      "\n",
      "    $/Sq.Ft. On Redfin   HOA Year Built Lot Size     Date Sold  \\\n",
      "599   $1,078  163 days  None       1910        —  AUG 10, 2020   \n",
      "698        —         —  None       1910        —  AUG 10, 2020   \n",
      "\n",
      "                Zip Code prop_type  \n",
      "599  2031-Hayes-St-94117     condo  \n",
      "698  2031-Hayes-St-94117     condo  \n"
     ]
    },
    {
     "data": {
      "text/html": [
       "<div>\n",
       "<style scoped>\n",
       "    .dataframe tbody tr th:only-of-type {\n",
       "        vertical-align: middle;\n",
       "    }\n",
       "\n",
       "    .dataframe tbody tr th {\n",
       "        vertical-align: top;\n",
       "    }\n",
       "\n",
       "    .dataframe thead th {\n",
       "        text-align: right;\n",
       "    }\n",
       "</style>\n",
       "<table border=\"1\" class=\"dataframe\">\n",
       "  <thead>\n",
       "    <tr style=\"text-align: right;\">\n",
       "      <th></th>\n",
       "      <th>Address</th>\n",
       "      <th>Location</th>\n",
       "      <th>Price</th>\n",
       "      <th>Beds</th>\n",
       "      <th>Baths</th>\n",
       "      <th>Sq.Ft.</th>\n",
       "      <th>$/Sq.Ft.</th>\n",
       "      <th>On Redfin</th>\n",
       "      <th>HOA</th>\n",
       "      <th>Year Built</th>\n",
       "      <th>Lot Size</th>\n",
       "      <th>Date Sold</th>\n",
       "      <th>Zip Code</th>\n",
       "      <th>prop_type</th>\n",
       "    </tr>\n",
       "  </thead>\n",
       "  <tbody>\n",
       "    <tr>\n",
       "      <th>599</th>\n",
       "      <td>2031 Hayes St</td>\n",
       "      <td>San Francisco County</td>\n",
       "      <td>$1,800,000</td>\n",
       "      <td>3</td>\n",
       "      <td>2.5</td>\n",
       "      <td>1,670</td>\n",
       "      <td>$1,078</td>\n",
       "      <td>163 days</td>\n",
       "      <td>None</td>\n",
       "      <td>1910</td>\n",
       "      <td>—</td>\n",
       "      <td>AUG 10, 2020</td>\n",
       "      <td>2031-Hayes-St-94117</td>\n",
       "      <td>condo</td>\n",
       "    </tr>\n",
       "  </tbody>\n",
       "</table>\n",
       "</div>"
      ],
      "text/plain": [
       "           Address              Location       Price Beds Baths Sq.Ft.  \\\n",
       "599  2031 Hayes St  San Francisco County  $1,800,000    3   2.5  1,670   \n",
       "\n",
       "    $/Sq.Ft. On Redfin   HOA Year Built Lot Size     Date Sold  \\\n",
       "599   $1,078  163 days  None       1910        —  AUG 10, 2020   \n",
       "\n",
       "                Zip Code prop_type  \n",
       "599  2031-Hayes-St-94117     condo  "
      ]
     },
     "execution_count": 5,
     "metadata": {},
     "output_type": "execute_result"
    }
   ],
   "source": [
    "#check for duplicates(2 of them) and drop the record with less info\n",
    "df[\"Address\"].duplicated().sum()\n",
    "df[df[\"Address\"].duplicated()]\n",
    "print(df[df[\"Address\"] == \"2031 Hayes St\"])\n",
    "df.drop_duplicates(subset = [\"Address\"], inplace = True)\n",
    "df[df[\"Address\"] == \"2031 Hayes St\"]"
   ]
  },
  {
   "cell_type": "code",
   "execution_count": 6,
   "id": "confident-handy",
   "metadata": {
    "scrolled": true
   },
   "outputs": [
    {
     "data": {
      "text/plain": [
       "Address             Zip Code              \n",
       "1 Burnett Ave N #3  1-Burnett-Ave-N-94131     1\n",
       "4031 Cabrillo St    4031-Cabrillo-St-94121    1\n",
       "42 August Aly       42-August-Aly-94133       1\n",
       "418 Ellsworth St    418-Ellsworth-St-94110    1\n",
       "416 Broderick St    416-Broderick-St-94117    1\n",
       "Name: Address, dtype: int64"
      ]
     },
     "execution_count": 6,
     "metadata": {},
     "output_type": "execute_result"
    }
   ],
   "source": [
    "#double check for duplicate\n",
    "df.groupby([\"Address\", \"Zip Code\"])[\"Address\"].count().sort_values(ascending = False).head()"
   ]
  },
  {
   "cell_type": "code",
   "execution_count": 7,
   "id": "superb-flash",
   "metadata": {
    "scrolled": true
   },
   "outputs": [
    {
     "data": {
      "text/plain": [
       "2020-08-21    17\n",
       "2020-12-01    15\n",
       "2020-11-13    14\n",
       "2020-12-11    14\n",
       "2020-10-23    14\n",
       "              ..\n",
       "2020-04-10     1\n",
       "2020-04-21     1\n",
       "2020-03-18     1\n",
       "2020-05-13     1\n",
       "2020-03-10     1\n",
       "Name: Date Sold, Length: 238, dtype: int64"
      ]
     },
     "execution_count": 7,
     "metadata": {},
     "output_type": "execute_result"
    }
   ],
   "source": [
    "#convert Date Sold to datetime object\n",
    "df[\"Date Sold\"] = pd.to_datetime(df[\"Date Sold\"])\n",
    "df[\"Date Sold\"].value_counts().sort_index()\n",
    "df[\"Date Sold\"].value_counts(ascending = False)"
   ]
  },
  {
   "cell_type": "code",
   "execution_count": 8,
   "id": "inclusive-creek",
   "metadata": {},
   "outputs": [
    {
     "name": "stdout",
     "output_type": "stream",
     "text": [
      "13\n",
      "28\n"
     ]
    },
    {
     "data": {
      "text/html": [
       "<div>\n",
       "<style scoped>\n",
       "    .dataframe tbody tr th:only-of-type {\n",
       "        vertical-align: middle;\n",
       "    }\n",
       "\n",
       "    .dataframe tbody tr th {\n",
       "        vertical-align: top;\n",
       "    }\n",
       "\n",
       "    .dataframe thead th {\n",
       "        text-align: right;\n",
       "    }\n",
       "</style>\n",
       "<table border=\"1\" class=\"dataframe\">\n",
       "  <thead>\n",
       "    <tr style=\"text-align: right;\">\n",
       "      <th></th>\n",
       "      <th>Address</th>\n",
       "      <th>Location</th>\n",
       "      <th>Price</th>\n",
       "      <th>Beds</th>\n",
       "      <th>Baths</th>\n",
       "      <th>Sq.Ft.</th>\n",
       "      <th>$/Sq.Ft.</th>\n",
       "      <th>On Redfin</th>\n",
       "      <th>HOA</th>\n",
       "      <th>Year Built</th>\n",
       "      <th>Lot Size</th>\n",
       "      <th>Date Sold</th>\n",
       "      <th>Zip Code</th>\n",
       "      <th>prop_type</th>\n",
       "    </tr>\n",
       "  </thead>\n",
       "  <tbody>\n",
       "    <tr>\n",
       "      <th>1140</th>\n",
       "      <td>2061 10th Ave</td>\n",
       "      <td></td>\n",
       "      <td>27000.0</td>\n",
       "      <td>2</td>\n",
       "      <td>1</td>\n",
       "      <td>1,178</td>\n",
       "      <td>$23</td>\n",
       "      <td>—</td>\n",
       "      <td>None</td>\n",
       "      <td>1947</td>\n",
       "      <td>3,000 Sq. Ft.</td>\n",
       "      <td>2020-07-01</td>\n",
       "      <td>2061-10th-Ave-94116</td>\n",
       "      <td>multi_fam</td>\n",
       "    </tr>\n",
       "    <tr>\n",
       "      <th>638</th>\n",
       "      <td>1335 Filbert St #101</td>\n",
       "      <td>Russian Hill</td>\n",
       "      <td>187620.0</td>\n",
       "      <td>1</td>\n",
       "      <td>1</td>\n",
       "      <td>914</td>\n",
       "      <td>$205</td>\n",
       "      <td>209 days</td>\n",
       "      <td>$552/month</td>\n",
       "      <td>1924</td>\n",
       "      <td>—</td>\n",
       "      <td>2020-06-25</td>\n",
       "      <td>1335-Filbert-St-94109</td>\n",
       "      <td>condo</td>\n",
       "    </tr>\n",
       "    <tr>\n",
       "      <th>444</th>\n",
       "      <td>901 Bayshore Blvd #308</td>\n",
       "      <td>Silver Terrace</td>\n",
       "      <td>196842.0</td>\n",
       "      <td>1</td>\n",
       "      <td>1</td>\n",
       "      <td>530</td>\n",
       "      <td>$371</td>\n",
       "      <td>21 days</td>\n",
       "      <td>$382/month</td>\n",
       "      <td>2003</td>\n",
       "      <td>—</td>\n",
       "      <td>2020-12-30</td>\n",
       "      <td>901-Bayshore-Blvd-94124</td>\n",
       "      <td>condo</td>\n",
       "    </tr>\n",
       "    <tr>\n",
       "      <th>1132</th>\n",
       "      <td>101 Caselli Ave #103</td>\n",
       "      <td></td>\n",
       "      <td>201500.0</td>\n",
       "      <td>4</td>\n",
       "      <td>5</td>\n",
       "      <td>—</td>\n",
       "      <td>—</td>\n",
       "      <td>—</td>\n",
       "      <td>None</td>\n",
       "      <td>1927</td>\n",
       "      <td>2,596 Sq. Ft.</td>\n",
       "      <td>2020-10-08</td>\n",
       "      <td>101-Caselli-Ave-94114</td>\n",
       "      <td>multi_fam</td>\n",
       "    </tr>\n",
       "    <tr>\n",
       "      <th>1099</th>\n",
       "      <td>1157 Broadway</td>\n",
       "      <td></td>\n",
       "      <td>214000.0</td>\n",
       "      <td>7</td>\n",
       "      <td>8</td>\n",
       "      <td>—</td>\n",
       "      <td>—</td>\n",
       "      <td>—</td>\n",
       "      <td>None</td>\n",
       "      <td>1923</td>\n",
       "      <td>—</td>\n",
       "      <td>2020-10-26</td>\n",
       "      <td>1157-Broadway-94109</td>\n",
       "      <td>multi_fam</td>\n",
       "    </tr>\n",
       "    <tr>\n",
       "      <th>305</th>\n",
       "      <td>33 Aladdin Ter</td>\n",
       "      <td></td>\n",
       "      <td>305000.0</td>\n",
       "      <td>—</td>\n",
       "      <td>2</td>\n",
       "      <td>—</td>\n",
       "      <td>—</td>\n",
       "      <td>—</td>\n",
       "      <td>None</td>\n",
       "      <td>1907</td>\n",
       "      <td>1,406 Sq. Ft.</td>\n",
       "      <td>2020-09-29</td>\n",
       "      <td>33-Aladdin-Ter-94133</td>\n",
       "      <td>house</td>\n",
       "    </tr>\n",
       "    <tr>\n",
       "      <th>489</th>\n",
       "      <td>55 Page St #315</td>\n",
       "      <td>SAN FRANCISCO</td>\n",
       "      <td>371490.0</td>\n",
       "      <td>1</td>\n",
       "      <td>1</td>\n",
       "      <td>750</td>\n",
       "      <td>$495</td>\n",
       "      <td>57 days</td>\n",
       "      <td>$542/month</td>\n",
       "      <td>2008</td>\n",
       "      <td>—</td>\n",
       "      <td>2020-11-24</td>\n",
       "      <td>55-Page-St-94102</td>\n",
       "      <td>condo</td>\n",
       "    </tr>\n",
       "    <tr>\n",
       "      <th>471</th>\n",
       "      <td>1346 Stevenson St Unit B201</td>\n",
       "      <td>South of Market</td>\n",
       "      <td>400000.0</td>\n",
       "      <td>1</td>\n",
       "      <td>1</td>\n",
       "      <td>600</td>\n",
       "      <td>$667</td>\n",
       "      <td>41 days</td>\n",
       "      <td>$449/month</td>\n",
       "      <td>1997</td>\n",
       "      <td>—</td>\n",
       "      <td>2020-12-10</td>\n",
       "      <td>1346-Stevenson-St-94103</td>\n",
       "      <td>condo</td>\n",
       "    </tr>\n",
       "    <tr>\n",
       "      <th>664</th>\n",
       "      <td>4569 Mission St #8</td>\n",
       "      <td></td>\n",
       "      <td>400000.0</td>\n",
       "      <td>—</td>\n",
       "      <td>—</td>\n",
       "      <td>1,541</td>\n",
       "      <td>$260</td>\n",
       "      <td>—</td>\n",
       "      <td>None</td>\n",
       "      <td>1979</td>\n",
       "      <td>—</td>\n",
       "      <td>2020-05-08</td>\n",
       "      <td>4569-Mission-St-94112</td>\n",
       "      <td>condo</td>\n",
       "    </tr>\n",
       "    <tr>\n",
       "      <th>584</th>\n",
       "      <td>83 McAllister #205Listing Agent: David Azimi</td>\n",
       "      <td>San Francisco</td>\n",
       "      <td>470000.0</td>\n",
       "      <td>0</td>\n",
       "      <td>1</td>\n",
       "      <td>254</td>\n",
       "      <td>$1,850</td>\n",
       "      <td>152 days</td>\n",
       "      <td>$458/month</td>\n",
       "      <td>2007</td>\n",
       "      <td>—</td>\n",
       "      <td>2020-08-21</td>\n",
       "      <td>83-McAllister-St-94102</td>\n",
       "      <td>condo</td>\n",
       "    </tr>\n",
       "    <tr>\n",
       "      <th>425</th>\n",
       "      <td>574 Natoma St #401</td>\n",
       "      <td>South of Market</td>\n",
       "      <td>475000.0</td>\n",
       "      <td>0</td>\n",
       "      <td>1</td>\n",
       "      <td>329</td>\n",
       "      <td>$1,444</td>\n",
       "      <td>295 days</td>\n",
       "      <td>$331/month</td>\n",
       "      <td>2012</td>\n",
       "      <td>—</td>\n",
       "      <td>2020-03-31</td>\n",
       "      <td>574-Natoma-St-94103</td>\n",
       "      <td>condo</td>\n",
       "    </tr>\n",
       "  </tbody>\n",
       "</table>\n",
       "</div>"
      ],
      "text/plain": [
       "                                           Address         Location     Price  \\\n",
       "1140                                 2061 10th Ave                    27000.0   \n",
       "638                           1335 Filbert St #101     Russian Hill  187620.0   \n",
       "444                         901 Bayshore Blvd #308   Silver Terrace  196842.0   \n",
       "1132                          101 Caselli Ave #103                   201500.0   \n",
       "1099                                 1157 Broadway                   214000.0   \n",
       "305                                 33 Aladdin Ter                   305000.0   \n",
       "489                                55 Page St #315    SAN FRANCISCO  371490.0   \n",
       "471                    1346 Stevenson St Unit B201  South of Market  400000.0   \n",
       "664                             4569 Mission St #8                   400000.0   \n",
       "584   83 McAllister #205Listing Agent: David Azimi    San Francisco  470000.0   \n",
       "425                             574 Natoma St #401  South of Market  475000.0   \n",
       "\n",
       "     Beds Baths Sq.Ft. $/Sq.Ft. On Redfin         HOA Year Built  \\\n",
       "1140    2     1  1,178      $23         —        None       1947   \n",
       "638     1     1    914     $205  209 days  $552/month       1924   \n",
       "444     1     1    530     $371   21 days  $382/month       2003   \n",
       "1132    4     5      —        —         —        None       1927   \n",
       "1099    7     8      —        —         —        None       1923   \n",
       "305     —     2      —        —         —        None       1907   \n",
       "489     1     1    750     $495   57 days  $542/month       2008   \n",
       "471     1     1    600     $667   41 days  $449/month       1997   \n",
       "664     —     —  1,541     $260         —        None       1979   \n",
       "584     0     1    254   $1,850  152 days  $458/month       2007   \n",
       "425     0     1    329   $1,444  295 days  $331/month       2012   \n",
       "\n",
       "           Lot Size  Date Sold                 Zip Code  prop_type  \n",
       "1140  3,000 Sq. Ft. 2020-07-01      2061-10th-Ave-94116  multi_fam  \n",
       "638               — 2020-06-25    1335-Filbert-St-94109      condo  \n",
       "444               — 2020-12-30  901-Bayshore-Blvd-94124      condo  \n",
       "1132  2,596 Sq. Ft. 2020-10-08    101-Caselli-Ave-94114  multi_fam  \n",
       "1099              — 2020-10-26      1157-Broadway-94109  multi_fam  \n",
       "305   1,406 Sq. Ft. 2020-09-29     33-Aladdin-Ter-94133      house  \n",
       "489               — 2020-11-24         55-Page-St-94102      condo  \n",
       "471               — 2020-12-10  1346-Stevenson-St-94103      condo  \n",
       "664               — 2020-05-08    4569-Mission-St-94112      condo  \n",
       "584               — 2020-08-21   83-McAllister-St-94102      condo  \n",
       "425               — 2020-03-31      574-Natoma-St-94103      condo  "
      ]
     },
     "execution_count": 8,
     "metadata": {},
     "output_type": "execute_result"
    }
   ],
   "source": [
    "#removing symbols in house Price\n",
    "df[\"Price\"] = [\"\".join(p.strip(\"$\").split(\",\")) for p in df[\"Price\"]]\n",
    "\n",
    "#convert Price to numbers and check for missing values\n",
    "df[\"Price\"] = pd.to_numeric(df[\"Price\"])\n",
    "print(df[\"Price\"].isna().sum()) #13 obs missing Price\n",
    "\n",
    "#check possible outliers\n",
    "print(len(df[df[\"Price\"] > 5000000])) #are they considered outliers?\n",
    "df[df[\"Price\"] > 5000000].sort_values(\"Price\", ascending = False).head()\n",
    "df[df[\"Price\"] < 500000].sort_values(\"Price\")"
   ]
  },
  {
   "cell_type": "code",
   "execution_count": 9,
   "id": "little-failure",
   "metadata": {
    "scrolled": true
   },
   "outputs": [
    {
     "name": "stdout",
     "output_type": "stream",
     "text": [
      "<class 'pandas.core.frame.DataFrame'>\n",
      "Int64Index: 1167 entries, 0 to 1179\n",
      "Data columns (total 14 columns):\n",
      " #   Column      Non-Null Count  Dtype         \n",
      "---  ------      --------------  -----         \n",
      " 0   Address     1167 non-null   object        \n",
      " 1   Location    1167 non-null   object        \n",
      " 2   Price       1167 non-null   float64       \n",
      " 3   Beds        1167 non-null   object        \n",
      " 4   Baths       1167 non-null   object        \n",
      " 5   Sq.Ft.      1167 non-null   object        \n",
      " 6   $/Sq.Ft.    1167 non-null   object        \n",
      " 7   On Redfin   1167 non-null   object        \n",
      " 8   HOA         1167 non-null   object        \n",
      " 9   Year Built  1167 non-null   object        \n",
      " 10  Lot Size    1167 non-null   object        \n",
      " 11  Date Sold   1167 non-null   datetime64[ns]\n",
      " 12  Zip Code    1167 non-null   object        \n",
      " 13  prop_type   1167 non-null   object        \n",
      "dtypes: datetime64[ns](1), float64(1), object(12)\n",
      "memory usage: 136.8+ KB\n"
     ]
    }
   ],
   "source": [
    "#drop records with missing values in Price and a record with Price misrecorded\n",
    "df.dropna(subset = [\"Price\"], axis = 0, inplace = True)\n",
    "df.drop(df[df[\"Price\"] == 27000].index, inplace = True)\n",
    "df.info()"
   ]
  },
  {
   "cell_type": "code",
   "execution_count": 10,
   "id": "turkish-discussion",
   "metadata": {},
   "outputs": [
    {
     "data": {
      "image/png": "[encoded data removed]",
      "text/plain": [
       "<Figure size 432x288 with 1 Axes>"
      ]
     },
     "metadata": {
      "needs_background": "light"
     },
     "output_type": "display_data"
    }
   ],
   "source": [
    "#look at property price distribution\n",
    "plt.hist(df[\"Price\"], bins = 100)\n",
    "plt.title(\"SF Property Price Distribution from 2020 to 2021\", fontsize = 15)\n",
    "plt.ylabel(\"Number of Properties\", fontsize = 12)\n",
    "plt.xlabel(\"Property Price in USD\", fontsize = 12);"
   ]
  },
  {
   "cell_type": "code",
   "execution_count": 11,
   "id": "boring-stand",
   "metadata": {
    "scrolled": true
   },
   "outputs": [
    {
     "data": {
      "image/png": "[encoded data removed]",
      "text/plain": [
       "<Figure size 432x288 with 1 Axes>"
      ]
     },
     "metadata": {
      "needs_background": "light"
     },
     "output_type": "display_data"
    }
   ],
   "source": [
    "#Price distribution is right skewed, apply log transform\n",
    "log_Price = np.log(df[\"Price\"])\n",
    "\n",
    "plt.hist(log_Price, bins = 100)\n",
    "plt.title(\"Log Property Price Distribution from 2020 to 2021\", fontsize = 15)\n",
    "plt.ylabel(\"Number of Properties\", fontsize = 12)\n",
    "plt.xlabel(\"Property Price in Log Scale\", fontsize = 12);"
   ]
  },
  {
   "cell_type": "code",
   "execution_count": 12,
   "id": "still-estate",
   "metadata": {},
   "outputs": [
    {
     "name": "stdout",
     "output_type": "stream",
     "text": [
      "0\n",
      "178\n"
     ]
    }
   ],
   "source": [
    "#check missing values in Location\n",
    "print(len(df[df[\"Location\"] == \"—\"]))\n",
    "print(len(df[df[\"Location\"] == \"\"])) #179 missing values for location, but guess Zip Code can approximate location!?"
   ]
  },
  {
   "cell_type": "code",
   "execution_count": 13,
   "id": "foreign-slovenia",
   "metadata": {},
   "outputs": [
    {
     "name": "stdout",
     "output_type": "stream",
     "text": [
      "115\n",
      "113\n",
      "38\n"
     ]
    }
   ],
   "source": [
    "#check missing values in Beds and Baths\n",
    "print(len(df[df[\"Beds\"] == \"—\"])) #115 obs missing values in Beds\n",
    "print(len(df[df[\"Baths\"] == \"—\"])) #113 obs missing values in Baths\n",
    "\n",
    "mask = (df[\"Beds\"] == \"—\") & (df[\"Baths\"] == \"—\")\n",
    "print(len(df[mask])) #38 obs missing both Beds and Baths\n",
    "\n",
    "#replace \"—\" in both Beds and Baths with none\n",
    "df[\"Beds\"].replace({\"—\":None}, inplace = True)\n",
    "df[\"Baths\"].replace({\"—\":None}, inplace = True)"
   ]
  },
  {
   "cell_type": "code",
   "execution_count": 14,
   "id": "artistic-phone",
   "metadata": {},
   "outputs": [
    {
     "data": {
      "text/plain": [
       "2.00     338\n",
       "1.00     233\n",
       "3.00     122\n",
       "2.50      83\n",
       "4.00      76\n",
       "3.50      55\n",
       "1.50      50\n",
       "5.00      26\n",
       "4.50      15\n",
       "6.00      14\n",
       "8.00       7\n",
       "5.50       6\n",
       "1.25       5\n",
       "7.00       4\n",
       "1.75       3\n",
       "12.00      3\n",
       "6.50       3\n",
       "2.25       3\n",
       "10.00      2\n",
       "2.75       1\n",
       "7.50       1\n",
       "16.00      1\n",
       "19.00      1\n",
       "24.00      1\n",
       "9.00       1\n",
       "Name: Baths, dtype: int64"
      ]
     },
     "execution_count": 14,
     "metadata": {},
     "output_type": "execute_result"
    }
   ],
   "source": [
    "#convert Beds to integer and Baths to float\n",
    "#int vs float makes a difference in interpretation\n",
    "df[\"Beds\"] = pd.to_numeric(df[\"Beds\"]).astype(\"Int64\")\n",
    "df[\"Baths\"] = pd.to_numeric(df[\"Baths\"])\n",
    "df[\"Baths\"].value_counts() #there can be 0.25 and 0.75 baths...o.O"
   ]
  },
  {
   "cell_type": "code",
   "execution_count": 15,
   "id": "computational-execution",
   "metadata": {},
   "outputs": [
    {
     "data": {
      "image/png": "[encoded data removed]",
      "text/plain": [
       "<Figure size 432x288 with 1 Axes>"
      ]
     },
     "metadata": {
      "needs_background": "light"
     },
     "output_type": "display_data"
    }
   ],
   "source": [
    "#look at distribution od property by number of bedrooms\n",
    "Beds_noNA = df[df[\"Beds\"].notnull()][\"Beds\"]\n",
    "\n",
    "plt.hist(Beds_noNA, bins = 30)\n",
    "plt.title(\"Property Distribution by Number of Beds\", fontsize = 15)\n",
    "plt.ylabel(\"Number of Properties\", fontsize = 12)\n",
    "plt.xlabel(\"Number of Beds\", fontsize = 12);"
   ]
  },
  {
   "cell_type": "code",
   "execution_count": 16,
   "id": "advised-prime",
   "metadata": {},
   "outputs": [
    {
     "name": "stdout",
     "output_type": "stream",
     "text": [
      "258\n"
     ]
    },
    {
     "data": {
      "text/plain": [
       "258"
      ]
     },
     "execution_count": 16,
     "metadata": {},
     "output_type": "execute_result"
    }
   ],
   "source": [
    "#check missing values in house size(Sq.Ft.)\n",
    "print(len(df[df[\"Sq.Ft.\"] == \"—\"])) #258 obs missing values in size\n",
    "\n",
    "#removing symbols in house size(Sq.Ft.) and replacing \"—\" with null\n",
    "df[\"Sq.Ft.\"] = [\"\".join(s.split(\",\")) for s in df[\"Sq.Ft.\"]]\n",
    "df[\"Sq.Ft.\"].replace({\"—\":None}, inplace = True)\n",
    "\n",
    "#convert size to numeric\n",
    "df[\"Sq.Ft.\"] = pd.to_numeric(df[\"Sq.Ft.\"])\n",
    "df[\"Sq.Ft.\"].isna().sum()"
   ]
  },
  {
   "cell_type": "markdown",
   "id": "offshore-yield",
   "metadata": {},
   "source": [
    "### LOOKING into missing values in size"
   ]
  },
  {
   "cell_type": "code",
   "execution_count": 17,
   "id": "extreme-possible",
   "metadata": {
    "scrolled": true
   },
   "outputs": [
    {
     "data": {
      "text/html": [
       "<div>\n",
       "<style scoped>\n",
       "    .dataframe tbody tr th:only-of-type {\n",
       "        vertical-align: middle;\n",
       "    }\n",
       "\n",
       "    .dataframe tbody tr th {\n",
       "        vertical-align: top;\n",
       "    }\n",
       "\n",
       "    .dataframe thead th {\n",
       "        text-align: right;\n",
       "    }\n",
       "</style>\n",
       "<table border=\"1\" class=\"dataframe\">\n",
       "  <thead>\n",
       "    <tr style=\"text-align: right;\">\n",
       "      <th></th>\n",
       "      <th>Address</th>\n",
       "      <th>Location</th>\n",
       "      <th>Price</th>\n",
       "      <th>Beds</th>\n",
       "      <th>Baths</th>\n",
       "      <th>Sq.Ft.</th>\n",
       "      <th>$/Sq.Ft.</th>\n",
       "      <th>On Redfin</th>\n",
       "      <th>HOA</th>\n",
       "      <th>Year Built</th>\n",
       "      <th>Lot Size</th>\n",
       "      <th>Date Sold</th>\n",
       "      <th>Zip Code</th>\n",
       "      <th>prop_type</th>\n",
       "    </tr>\n",
       "  </thead>\n",
       "  <tbody>\n",
       "    <tr>\n",
       "      <th>1132</th>\n",
       "      <td>101 Caselli Ave #103</td>\n",
       "      <td></td>\n",
       "      <td>201500.0</td>\n",
       "      <td>4</td>\n",
       "      <td>5.0</td>\n",
       "      <td>NaN</td>\n",
       "      <td>—</td>\n",
       "      <td>—</td>\n",
       "      <td>None</td>\n",
       "      <td>1927</td>\n",
       "      <td>2,596 Sq. Ft.</td>\n",
       "      <td>2020-10-08</td>\n",
       "      <td>101-Caselli-Ave-94114</td>\n",
       "      <td>multi_fam</td>\n",
       "    </tr>\n",
       "    <tr>\n",
       "      <th>1099</th>\n",
       "      <td>1157 Broadway</td>\n",
       "      <td></td>\n",
       "      <td>214000.0</td>\n",
       "      <td>7</td>\n",
       "      <td>8.0</td>\n",
       "      <td>NaN</td>\n",
       "      <td>—</td>\n",
       "      <td>—</td>\n",
       "      <td>None</td>\n",
       "      <td>1923</td>\n",
       "      <td>—</td>\n",
       "      <td>2020-10-26</td>\n",
       "      <td>1157-Broadway-94109</td>\n",
       "      <td>multi_fam</td>\n",
       "    </tr>\n",
       "    <tr>\n",
       "      <th>305</th>\n",
       "      <td>33 Aladdin Ter</td>\n",
       "      <td></td>\n",
       "      <td>305000.0</td>\n",
       "      <td>&lt;NA&gt;</td>\n",
       "      <td>2.0</td>\n",
       "      <td>NaN</td>\n",
       "      <td>—</td>\n",
       "      <td>—</td>\n",
       "      <td>None</td>\n",
       "      <td>1907</td>\n",
       "      <td>1,406 Sq. Ft.</td>\n",
       "      <td>2020-09-29</td>\n",
       "      <td>33-Aladdin-Ter-94133</td>\n",
       "      <td>house</td>\n",
       "    </tr>\n",
       "    <tr>\n",
       "      <th>1174</th>\n",
       "      <td>527 Waller St</td>\n",
       "      <td></td>\n",
       "      <td>500000.0</td>\n",
       "      <td>&lt;NA&gt;</td>\n",
       "      <td>1.0</td>\n",
       "      <td>NaN</td>\n",
       "      <td>—</td>\n",
       "      <td>—</td>\n",
       "      <td>None</td>\n",
       "      <td>1910</td>\n",
       "      <td>—</td>\n",
       "      <td>2020-08-05</td>\n",
       "      <td>527-Waller-St-94117</td>\n",
       "      <td>multi_fam</td>\n",
       "    </tr>\n",
       "    <tr>\n",
       "      <th>467</th>\n",
       "      <td>1050 North Pt #505</td>\n",
       "      <td>Russian Hill</td>\n",
       "      <td>549000.0</td>\n",
       "      <td>0</td>\n",
       "      <td>1.0</td>\n",
       "      <td>NaN</td>\n",
       "      <td>—</td>\n",
       "      <td>35 days</td>\n",
       "      <td>$505/month</td>\n",
       "      <td>—</td>\n",
       "      <td>—</td>\n",
       "      <td>2020-12-16</td>\n",
       "      <td>1050-N-Point-St-94109</td>\n",
       "      <td>condo</td>\n",
       "    </tr>\n",
       "  </tbody>\n",
       "</table>\n",
       "</div>"
      ],
      "text/plain": [
       "                   Address      Location     Price  Beds  Baths  Sq.Ft.  \\\n",
       "1132  101 Caselli Ave #103                201500.0     4    5.0     NaN   \n",
       "1099         1157 Broadway                214000.0     7    8.0     NaN   \n",
       "305         33 Aladdin Ter                305000.0  <NA>    2.0     NaN   \n",
       "1174         527 Waller St                500000.0  <NA>    1.0     NaN   \n",
       "467     1050 North Pt #505  Russian Hill  549000.0     0    1.0     NaN   \n",
       "\n",
       "     $/Sq.Ft. On Redfin         HOA Year Built       Lot Size  Date Sold  \\\n",
       "1132        —         —        None       1927  2,596 Sq. Ft. 2020-10-08   \n",
       "1099        —         —        None       1923              — 2020-10-26   \n",
       "305         —         —        None       1907  1,406 Sq. Ft. 2020-09-29   \n",
       "1174        —         —        None       1910              — 2020-08-05   \n",
       "467         —   35 days  $505/month          —              — 2020-12-16   \n",
       "\n",
       "                   Zip Code  prop_type  \n",
       "1132  101-Caselli-Ave-94114  multi_fam  \n",
       "1099    1157-Broadway-94109  multi_fam  \n",
       "305    33-Aladdin-Ter-94133      house  \n",
       "1174    527-Waller-St-94117  multi_fam  \n",
       "467   1050-N-Point-St-94109      condo  "
      ]
     },
     "execution_count": 17,
     "metadata": {},
     "output_type": "execute_result"
    }
   ],
   "source": [
    "df[df[\"Sq.Ft.\"].isna()].sort_values(\"Price\", ascending = True).head()"
   ]
  },
  {
   "cell_type": "code",
   "execution_count": 18,
   "id": "british-spanking",
   "metadata": {
    "scrolled": true
   },
   "outputs": [
    {
     "data": {
      "text/html": [
       "<div>\n",
       "<style scoped>\n",
       "    .dataframe tbody tr th:only-of-type {\n",
       "        vertical-align: middle;\n",
       "    }\n",
       "\n",
       "    .dataframe tbody tr th {\n",
       "        vertical-align: top;\n",
       "    }\n",
       "\n",
       "    .dataframe thead th {\n",
       "        text-align: right;\n",
       "    }\n",
       "</style>\n",
       "<table border=\"1\" class=\"dataframe\">\n",
       "  <thead>\n",
       "    <tr style=\"text-align: right;\">\n",
       "      <th></th>\n",
       "      <th>Address</th>\n",
       "      <th>Location</th>\n",
       "      <th>Price</th>\n",
       "      <th>Beds</th>\n",
       "      <th>Baths</th>\n",
       "      <th>Sq.Ft.</th>\n",
       "      <th>$/Sq.Ft.</th>\n",
       "      <th>On Redfin</th>\n",
       "      <th>HOA</th>\n",
       "      <th>Year Built</th>\n",
       "      <th>Lot Size</th>\n",
       "      <th>Date Sold</th>\n",
       "      <th>Zip Code</th>\n",
       "      <th>prop_type</th>\n",
       "    </tr>\n",
       "  </thead>\n",
       "  <tbody>\n",
       "    <tr>\n",
       "      <th>343</th>\n",
       "      <td>2840 Green St</td>\n",
       "      <td></td>\n",
       "      <td>8800000.0</td>\n",
       "      <td>5</td>\n",
       "      <td>4.0</td>\n",
       "      <td>NaN</td>\n",
       "      <td>—</td>\n",
       "      <td>—</td>\n",
       "      <td>None</td>\n",
       "      <td>1936</td>\n",
       "      <td>3,438 Sq. Ft.</td>\n",
       "      <td>2020-12-08</td>\n",
       "      <td>2840-Green-St-94123</td>\n",
       "      <td>house</td>\n",
       "    </tr>\n",
       "    <tr>\n",
       "      <th>1175</th>\n",
       "      <td>1647 Sanchez St</td>\n",
       "      <td></td>\n",
       "      <td>9100000.0</td>\n",
       "      <td>4</td>\n",
       "      <td>2.0</td>\n",
       "      <td>NaN</td>\n",
       "      <td>—</td>\n",
       "      <td>—</td>\n",
       "      <td>None</td>\n",
       "      <td>1900</td>\n",
       "      <td>2,592 Sq. Ft.</td>\n",
       "      <td>2020-07-24</td>\n",
       "      <td>1647-Sanchez-St-94131</td>\n",
       "      <td>multi_fam</td>\n",
       "    </tr>\n",
       "    <tr>\n",
       "      <th>321</th>\n",
       "      <td>2561 Washington St</td>\n",
       "      <td></td>\n",
       "      <td>9600000.0</td>\n",
       "      <td>5</td>\n",
       "      <td>3.0</td>\n",
       "      <td>NaN</td>\n",
       "      <td>—</td>\n",
       "      <td>—</td>\n",
       "      <td>None</td>\n",
       "      <td>1900</td>\n",
       "      <td>5,105 Sq. Ft.</td>\n",
       "      <td>2020-03-11</td>\n",
       "      <td>2561-Washington-St-94115</td>\n",
       "      <td>house</td>\n",
       "    </tr>\n",
       "    <tr>\n",
       "      <th>1104</th>\n",
       "      <td>3959 Washington St</td>\n",
       "      <td></td>\n",
       "      <td>10500000.0</td>\n",
       "      <td>5</td>\n",
       "      <td>4.0</td>\n",
       "      <td>NaN</td>\n",
       "      <td>—</td>\n",
       "      <td>—</td>\n",
       "      <td>None</td>\n",
       "      <td>1913</td>\n",
       "      <td>3,632 Sq. Ft.</td>\n",
       "      <td>2020-10-30</td>\n",
       "      <td>3959-Washington-St-94118</td>\n",
       "      <td>multi_fam</td>\n",
       "    </tr>\n",
       "    <tr>\n",
       "      <th>81</th>\n",
       "      <td>2775 Vallejo St</td>\n",
       "      <td>Pacific Heights</td>\n",
       "      <td>19750000.0</td>\n",
       "      <td>6</td>\n",
       "      <td>6.5</td>\n",
       "      <td>NaN</td>\n",
       "      <td>—</td>\n",
       "      <td>21 days</td>\n",
       "      <td>None</td>\n",
       "      <td>1916</td>\n",
       "      <td>6,806 Sq. Ft.</td>\n",
       "      <td>2020-12-30</td>\n",
       "      <td>2775-Vallejo-St-94123</td>\n",
       "      <td>house</td>\n",
       "    </tr>\n",
       "  </tbody>\n",
       "</table>\n",
       "</div>"
      ],
      "text/plain": [
       "                 Address         Location       Price  Beds  Baths  Sq.Ft.  \\\n",
       "343        2840 Green St                    8800000.0     5    4.0     NaN   \n",
       "1175     1647 Sanchez St                    9100000.0     4    2.0     NaN   \n",
       "321   2561 Washington St                    9600000.0     5    3.0     NaN   \n",
       "1104  3959 Washington St                   10500000.0     5    4.0     NaN   \n",
       "81       2775 Vallejo St  Pacific Heights  19750000.0     6    6.5     NaN   \n",
       "\n",
       "     $/Sq.Ft. On Redfin   HOA Year Built       Lot Size  Date Sold  \\\n",
       "343         —         —  None       1936  3,438 Sq. Ft. 2020-12-08   \n",
       "1175        —         —  None       1900  2,592 Sq. Ft. 2020-07-24   \n",
       "321         —         —  None       1900  5,105 Sq. Ft. 2020-03-11   \n",
       "1104        —         —  None       1913  3,632 Sq. Ft. 2020-10-30   \n",
       "81          —   21 days  None       1916  6,806 Sq. Ft. 2020-12-30   \n",
       "\n",
       "                      Zip Code  prop_type  \n",
       "343        2840-Green-St-94123      house  \n",
       "1175     1647-Sanchez-St-94131  multi_fam  \n",
       "321   2561-Washington-St-94115      house  \n",
       "1104  3959-Washington-St-94118  multi_fam  \n",
       "81       2775-Vallejo-St-94123      house  "
      ]
     },
     "execution_count": 18,
     "metadata": {},
     "output_type": "execute_result"
    }
   ],
   "source": [
    "df[df[\"Sq.Ft.\"].isna()].sort_values(\"Price\", ascending = True).tail()"
   ]
  },
  {
   "cell_type": "code",
   "execution_count": 19,
   "id": "clean-carbon",
   "metadata": {},
   "outputs": [
    {
     "data": {
      "text/plain": [
       "258"
      ]
     },
     "execution_count": 19,
     "metadata": {},
     "output_type": "execute_result"
    }
   ],
   "source": [
    "#can I fill in missing size with Price/($/Sq.Ft.)??\n",
    "#$/Sq.Ft. has more missing values than size, cannot be use to fill in missing values in size\n",
    "mask = (df[\"Sq.Ft.\"].isna()) & (df[\"$/Sq.Ft.\"] == \"—\")\n",
    "len(df[mask])"
   ]
  },
  {
   "cell_type": "markdown",
   "id": "physical-parish",
   "metadata": {},
   "source": [
    "### ^ CONCLUSION: missing values can be filled in from individual property page <br> Should just drop those values instead of imputing (back to scraping if more time)"
   ]
  },
  {
   "cell_type": "code",
   "execution_count": 20,
   "id": "vital-nursing",
   "metadata": {},
   "outputs": [
    {
     "data": {
      "text/html": [
       "<div>\n",
       "<style scoped>\n",
       "    .dataframe tbody tr th:only-of-type {\n",
       "        vertical-align: middle;\n",
       "    }\n",
       "\n",
       "    .dataframe tbody tr th {\n",
       "        vertical-align: top;\n",
       "    }\n",
       "\n",
       "    .dataframe thead th {\n",
       "        text-align: right;\n",
       "    }\n",
       "</style>\n",
       "<table border=\"1\" class=\"dataframe\">\n",
       "  <thead>\n",
       "    <tr style=\"text-align: right;\">\n",
       "      <th></th>\n",
       "      <th>Address</th>\n",
       "      <th>Location</th>\n",
       "      <th>Price</th>\n",
       "      <th>Beds</th>\n",
       "      <th>Baths</th>\n",
       "      <th>Sq.Ft.</th>\n",
       "      <th>$/Sq.Ft.</th>\n",
       "      <th>On Redfin</th>\n",
       "      <th>HOA</th>\n",
       "      <th>Year Built</th>\n",
       "      <th>Lot Size</th>\n",
       "      <th>Date Sold</th>\n",
       "      <th>Zip Code</th>\n",
       "      <th>prop_type</th>\n",
       "    </tr>\n",
       "  </thead>\n",
       "  <tbody>\n",
       "    <tr>\n",
       "      <th>147</th>\n",
       "      <td>190 Sea Cliff Ave</td>\n",
       "      <td>Sea Cliff</td>\n",
       "      <td>24000000.0</td>\n",
       "      <td>4</td>\n",
       "      <td>6.5</td>\n",
       "      <td>10725.0</td>\n",
       "      <td>$2,238</td>\n",
       "      <td>69 days</td>\n",
       "      <td>None</td>\n",
       "      <td>1913</td>\n",
       "      <td>0.25 Acres</td>\n",
       "      <td>2020-11-12</td>\n",
       "      <td>190-Sea-Cliff-Ave-94121</td>\n",
       "      <td>house</td>\n",
       "    </tr>\n",
       "    <tr>\n",
       "      <th>878</th>\n",
       "      <td>2028 Scott St</td>\n",
       "      <td>Pacific Heights</td>\n",
       "      <td>6250000.0</td>\n",
       "      <td>21</td>\n",
       "      <td>NaN</td>\n",
       "      <td>11493.0</td>\n",
       "      <td>$544</td>\n",
       "      <td>14 days</td>\n",
       "      <td>None</td>\n",
       "      <td>1966</td>\n",
       "      <td>5,292 Sq. Ft.</td>\n",
       "      <td>2021-01-06</td>\n",
       "      <td>2028-Scott-St-94115</td>\n",
       "      <td>multi_fam</td>\n",
       "    </tr>\n",
       "    <tr>\n",
       "      <th>905</th>\n",
       "      <td>1623-1633 California St</td>\n",
       "      <td>Nob Hill</td>\n",
       "      <td>6500000.0</td>\n",
       "      <td>10</td>\n",
       "      <td>NaN</td>\n",
       "      <td>15052.0</td>\n",
       "      <td>$432</td>\n",
       "      <td>40 days</td>\n",
       "      <td>None</td>\n",
       "      <td>1923</td>\n",
       "      <td>6,873 Sq. Ft.</td>\n",
       "      <td>2020-12-11</td>\n",
       "      <td>1623-California-St-94109</td>\n",
       "      <td>multi_fam</td>\n",
       "    </tr>\n",
       "    <tr>\n",
       "      <th>926</th>\n",
       "      <td>3014 Clay St</td>\n",
       "      <td>Pacific Heights</td>\n",
       "      <td>7920000.0</td>\n",
       "      <td>24</td>\n",
       "      <td>NaN</td>\n",
       "      <td>12375.0</td>\n",
       "      <td>$640</td>\n",
       "      <td>72 days</td>\n",
       "      <td>None</td>\n",
       "      <td>1963</td>\n",
       "      <td>6,381 Sq. Ft.</td>\n",
       "      <td>2020-11-09</td>\n",
       "      <td>3014-Clay-St-94115</td>\n",
       "      <td>multi_fam</td>\n",
       "    </tr>\n",
       "    <tr>\n",
       "      <th>929</th>\n",
       "      <td>25-35 Hoff St</td>\n",
       "      <td>Inner Mission</td>\n",
       "      <td>4125000.0</td>\n",
       "      <td>24</td>\n",
       "      <td>NaN</td>\n",
       "      <td>16470.0</td>\n",
       "      <td>$250</td>\n",
       "      <td>75 days</td>\n",
       "      <td>None</td>\n",
       "      <td>1907</td>\n",
       "      <td>7,361 Sq. Ft.</td>\n",
       "      <td>2020-11-06</td>\n",
       "      <td>25-Hoff-St-94110</td>\n",
       "      <td>multi_fam</td>\n",
       "    </tr>\n",
       "  </tbody>\n",
       "</table>\n",
       "</div>"
      ],
      "text/plain": [
       "                     Address         Location       Price  Beds  Baths  \\\n",
       "147        190 Sea Cliff Ave        Sea Cliff  24000000.0     4    6.5   \n",
       "878            2028 Scott St  Pacific Heights   6250000.0    21    NaN   \n",
       "905  1623-1633 California St         Nob Hill   6500000.0    10    NaN   \n",
       "926             3014 Clay St  Pacific Heights   7920000.0    24    NaN   \n",
       "929            25-35 Hoff St    Inner Mission   4125000.0    24    NaN   \n",
       "\n",
       "      Sq.Ft. $/Sq.Ft. On Redfin   HOA Year Built       Lot Size  Date Sold  \\\n",
       "147  10725.0   $2,238   69 days  None       1913     0.25 Acres 2020-11-12   \n",
       "878  11493.0     $544   14 days  None       1966  5,292 Sq. Ft. 2021-01-06   \n",
       "905  15052.0     $432   40 days  None       1923  6,873 Sq. Ft. 2020-12-11   \n",
       "926  12375.0     $640   72 days  None       1963  6,381 Sq. Ft. 2020-11-09   \n",
       "929  16470.0     $250   75 days  None       1907  7,361 Sq. Ft. 2020-11-06   \n",
       "\n",
       "                     Zip Code  prop_type  \n",
       "147   190-Sea-Cliff-Ave-94121      house  \n",
       "878       2028-Scott-St-94115  multi_fam  \n",
       "905  1623-California-St-94109  multi_fam  \n",
       "926        3014-Clay-St-94115  multi_fam  \n",
       "929          25-Hoff-St-94110  multi_fam  "
      ]
     },
     "execution_count": 20,
     "metadata": {},
     "output_type": "execute_result"
    }
   ],
   "source": [
    "#check outliers in property size\n",
    "df[df[\"Sq.Ft.\"] == 0] #2 listings have size 0, redfin records reported by owners\n",
    "df[df[\"Sq.Ft.\"] > 10000].head()"
   ]
  },
  {
   "cell_type": "code",
   "execution_count": 21,
   "id": "meaning-april",
   "metadata": {},
   "outputs": [],
   "source": [
    "# remove missing values and 2 records with 0 size\n",
    "mask = (df[\"Sq.Ft.\"].isna()) | (df[\"Sq.Ft.\"] == 0)\n",
    "df.drop(df[mask].index, inplace = True)"
   ]
  },
  {
   "cell_type": "code",
   "execution_count": 22,
   "id": "internal-minimum",
   "metadata": {},
   "outputs": [
    {
     "data": {
      "image/png": "[encoded data removed]",
      "text/plain": [
       "<Figure size 432x288 with 1 Axes>"
      ]
     },
     "metadata": {
      "needs_background": "light"
     },
     "output_type": "display_data"
    }
   ],
   "source": [
    "#look at distribution of property by size\n",
    "plt.hist(df[\"Sq.Ft.\"], bins = 30)\n",
    "plt.title(\"Property Distribution by Size\", fontsize = 15)\n",
    "plt.ylabel(\"Number of Properties\", fontsize = 12)\n",
    "plt.xlabel(\"Size of Properties\", fontsize = 12);"
   ]
  },
  {
   "cell_type": "code",
   "execution_count": 23,
   "id": "understanding-period",
   "metadata": {},
   "outputs": [
    {
     "data": {
      "image/png": "[encoded data removed]",
      "text/plain": [
       "<Figure size 432x288 with 1 Axes>"
      ]
     },
     "metadata": {
      "needs_background": "light"
     },
     "output_type": "display_data"
    }
   ],
   "source": [
    "#size has right skewed distribution, log transform\n",
    "plt.hist(np.log(df[\"Sq.Ft.\"]), bins = 30)\n",
    "plt.title(\"Log Property Distribution by Size\", fontsize = 15)\n",
    "plt.ylabel(\"Number of Properties\", fontsize = 12)\n",
    "plt.xlabel(\"Log Size of Properties\", fontsize = 12);"
   ]
  },
  {
   "cell_type": "code",
   "execution_count": 24,
   "id": "unavailable-temperature",
   "metadata": {
    "scrolled": false
   },
   "outputs": [
    {
     "name": "stdout",
     "output_type": "stream",
     "text": [
      "<class 'pandas.core.frame.DataFrame'>\n",
      "Int64Index: 907 entries, 0 to 1163\n",
      "Data columns (total 14 columns):\n",
      " #   Column      Non-Null Count  Dtype         \n",
      "---  ------      --------------  -----         \n",
      " 0   Address     907 non-null    object        \n",
      " 1   Location    907 non-null    object        \n",
      " 2   Price       907 non-null    float64       \n",
      " 3   Beds        876 non-null    Int64         \n",
      " 4   Baths       808 non-null    float64       \n",
      " 5   Sq.Ft.      907 non-null    float64       \n",
      " 6   $/Sq.Ft.    907 non-null    object        \n",
      " 7   On Redfin   907 non-null    object        \n",
      " 8   HOA         907 non-null    object        \n",
      " 9   Year Built  907 non-null    object        \n",
      " 10  Lot Size    907 non-null    object        \n",
      " 11  Date Sold   907 non-null    datetime64[ns]\n",
      " 12  Zip Code    907 non-null    object        \n",
      " 13  prop_type   907 non-null    object        \n",
      "dtypes: Int64(1), datetime64[ns](1), float64(3), object(9)\n",
      "memory usage: 107.2+ KB\n"
     ]
    }
   ],
   "source": [
    "#check other missing values\n",
    "df.info()"
   ]
  },
  {
   "cell_type": "markdown",
   "id": "anonymous-crisis",
   "metadata": {},
   "source": [
    "### NOW GOING BACK TO MISSING VALUES in Beds and Baths after removing missing values in size"
   ]
  },
  {
   "cell_type": "code",
   "execution_count": 25,
   "id": "annoying-scenario",
   "metadata": {
    "scrolled": true
   },
   "outputs": [
    {
     "name": "stdout",
     "output_type": "stream",
     "text": [
      "31\n"
     ]
    },
    {
     "data": {
      "text/html": [
       "<div>\n",
       "<style scoped>\n",
       "    .dataframe tbody tr th:only-of-type {\n",
       "        vertical-align: middle;\n",
       "    }\n",
       "\n",
       "    .dataframe tbody tr th {\n",
       "        vertical-align: top;\n",
       "    }\n",
       "\n",
       "    .dataframe thead th {\n",
       "        text-align: right;\n",
       "    }\n",
       "</style>\n",
       "<table border=\"1\" class=\"dataframe\">\n",
       "  <thead>\n",
       "    <tr style=\"text-align: right;\">\n",
       "      <th></th>\n",
       "      <th>Address</th>\n",
       "      <th>Location</th>\n",
       "      <th>Price</th>\n",
       "      <th>Beds</th>\n",
       "      <th>Baths</th>\n",
       "      <th>Sq.Ft.</th>\n",
       "      <th>$/Sq.Ft.</th>\n",
       "      <th>On Redfin</th>\n",
       "      <th>HOA</th>\n",
       "      <th>Year Built</th>\n",
       "      <th>Lot Size</th>\n",
       "      <th>Date Sold</th>\n",
       "      <th>Zip Code</th>\n",
       "      <th>prop_type</th>\n",
       "    </tr>\n",
       "  </thead>\n",
       "  <tbody>\n",
       "    <tr>\n",
       "      <th>847</th>\n",
       "      <td>3256 Folsom St</td>\n",
       "      <td>Bernal Heights</td>\n",
       "      <td>1560000.0</td>\n",
       "      <td>&lt;NA&gt;</td>\n",
       "      <td>NaN</td>\n",
       "      <td>2023.0</td>\n",
       "      <td>$771</td>\n",
       "      <td>51 days</td>\n",
       "      <td>None</td>\n",
       "      <td>—</td>\n",
       "      <td>—</td>\n",
       "      <td>2020-11-30</td>\n",
       "      <td>3256-Folsom-St-94110</td>\n",
       "      <td>multi_fam</td>\n",
       "    </tr>\n",
       "    <tr>\n",
       "      <th>845</th>\n",
       "      <td>222-224 23rd Ave</td>\n",
       "      <td>Central Richmond</td>\n",
       "      <td>1520000.0</td>\n",
       "      <td>&lt;NA&gt;</td>\n",
       "      <td>NaN</td>\n",
       "      <td>2500.0</td>\n",
       "      <td>$608</td>\n",
       "      <td>47 days</td>\n",
       "      <td>None</td>\n",
       "      <td>1909</td>\n",
       "      <td>2,996 Sq. Ft.</td>\n",
       "      <td>2020-12-04</td>\n",
       "      <td>222-23rd-Ave-94121</td>\n",
       "      <td>multi_fam</td>\n",
       "    </tr>\n",
       "    <tr>\n",
       "      <th>842</th>\n",
       "      <td>960-964 Filbert St</td>\n",
       "      <td>Russian Hill</td>\n",
       "      <td>2250000.0</td>\n",
       "      <td>&lt;NA&gt;</td>\n",
       "      <td>NaN</td>\n",
       "      <td>2740.0</td>\n",
       "      <td>$821</td>\n",
       "      <td>28 days</td>\n",
       "      <td>None</td>\n",
       "      <td>1913</td>\n",
       "      <td>1,197 Sq. Ft.</td>\n",
       "      <td>2020-12-23</td>\n",
       "      <td>960-Filbert-St-94133</td>\n",
       "      <td>multi_fam</td>\n",
       "    </tr>\n",
       "    <tr>\n",
       "      <th>972</th>\n",
       "      <td>3716-3718 Taraval St</td>\n",
       "      <td>Outer Parkside</td>\n",
       "      <td>1016000.0</td>\n",
       "      <td>&lt;NA&gt;</td>\n",
       "      <td>NaN</td>\n",
       "      <td>2550.0</td>\n",
       "      <td>$398</td>\n",
       "      <td>110 days</td>\n",
       "      <td>None</td>\n",
       "      <td>1948</td>\n",
       "      <td>2,495 Sq. Ft.</td>\n",
       "      <td>2020-10-02</td>\n",
       "      <td>3716-Taraval-St-94116</td>\n",
       "      <td>multi_fam</td>\n",
       "    </tr>\n",
       "    <tr>\n",
       "      <th>1163</th>\n",
       "      <td>311 Potrero Ave</td>\n",
       "      <td></td>\n",
       "      <td>3625000.0</td>\n",
       "      <td>&lt;NA&gt;</td>\n",
       "      <td>6.0</td>\n",
       "      <td>4250.0</td>\n",
       "      <td>$853</td>\n",
       "      <td>—</td>\n",
       "      <td>None</td>\n",
       "      <td>1906</td>\n",
       "      <td>—</td>\n",
       "      <td>2020-02-14</td>\n",
       "      <td>311-Potrero-Ave-94103</td>\n",
       "      <td>multi_fam</td>\n",
       "    </tr>\n",
       "  </tbody>\n",
       "</table>\n",
       "</div>"
      ],
      "text/plain": [
       "                   Address          Location      Price  Beds  Baths  Sq.Ft.  \\\n",
       "847         3256 Folsom St    Bernal Heights  1560000.0  <NA>    NaN  2023.0   \n",
       "845       222-224 23rd Ave  Central Richmond  1520000.0  <NA>    NaN  2500.0   \n",
       "842     960-964 Filbert St      Russian Hill  2250000.0  <NA>    NaN  2740.0   \n",
       "972   3716-3718 Taraval St    Outer Parkside  1016000.0  <NA>    NaN  2550.0   \n",
       "1163       311 Potrero Ave                    3625000.0  <NA>    6.0  4250.0   \n",
       "\n",
       "     $/Sq.Ft. On Redfin   HOA Year Built       Lot Size  Date Sold  \\\n",
       "847      $771   51 days  None          —              — 2020-11-30   \n",
       "845      $608   47 days  None       1909  2,996 Sq. Ft. 2020-12-04   \n",
       "842      $821   28 days  None       1913  1,197 Sq. Ft. 2020-12-23   \n",
       "972      $398  110 days  None       1948  2,495 Sq. Ft. 2020-10-02   \n",
       "1163     $853         —  None       1906              — 2020-02-14   \n",
       "\n",
       "                   Zip Code  prop_type  \n",
       "847    3256-Folsom-St-94110  multi_fam  \n",
       "845      222-23rd-Ave-94121  multi_fam  \n",
       "842    960-Filbert-St-94133  multi_fam  \n",
       "972   3716-Taraval-St-94116  multi_fam  \n",
       "1163  311-Potrero-Ave-94103  multi_fam  "
      ]
     },
     "execution_count": 25,
     "metadata": {},
     "output_type": "execute_result"
    }
   ],
   "source": [
    "#check missing values in Beds\n",
    "print(df[\"Beds\"].isna().sum())\n",
    "df[df[\"Beds\"].isna()].sort_values(\"prop_type\").head()#still have 31 missing, 30 multi-family units...T.T\n",
    "df[df[\"Beds\"].isna()].sort_values(\"prop_type\").tail()"
   ]
  },
  {
   "cell_type": "code",
   "execution_count": 26,
   "id": "eastern-amendment",
   "metadata": {
    "scrolled": false
   },
   "outputs": [
    {
     "data": {
      "text/plain": [
       "254"
      ]
     },
     "execution_count": 26,
     "metadata": {},
     "output_type": "execute_result"
    }
   ],
   "source": [
    "len(df[df[\"prop_type\"] == \"multi_fam\"])"
   ]
  },
  {
   "cell_type": "code",
   "execution_count": 27,
   "id": "unlike-mozambique",
   "metadata": {},
   "outputs": [
    {
     "name": "stdout",
     "output_type": "stream",
     "text": [
      "99\n"
     ]
    },
    {
     "data": {
      "text/html": [
       "<div>\n",
       "<style scoped>\n",
       "    .dataframe tbody tr th:only-of-type {\n",
       "        vertical-align: middle;\n",
       "    }\n",
       "\n",
       "    .dataframe tbody tr th {\n",
       "        vertical-align: top;\n",
       "    }\n",
       "\n",
       "    .dataframe thead th {\n",
       "        text-align: right;\n",
       "    }\n",
       "</style>\n",
       "<table border=\"1\" class=\"dataframe\">\n",
       "  <thead>\n",
       "    <tr style=\"text-align: right;\">\n",
       "      <th></th>\n",
       "      <th>Address</th>\n",
       "      <th>Location</th>\n",
       "      <th>Price</th>\n",
       "      <th>Beds</th>\n",
       "      <th>Baths</th>\n",
       "      <th>Sq.Ft.</th>\n",
       "      <th>$/Sq.Ft.</th>\n",
       "      <th>On Redfin</th>\n",
       "      <th>HOA</th>\n",
       "      <th>Year Built</th>\n",
       "      <th>Lot Size</th>\n",
       "      <th>Date Sold</th>\n",
       "      <th>Zip Code</th>\n",
       "      <th>prop_type</th>\n",
       "    </tr>\n",
       "  </thead>\n",
       "  <tbody>\n",
       "    <tr>\n",
       "      <th>924</th>\n",
       "      <td>17-23 Hoff St</td>\n",
       "      <td>Inner Mission</td>\n",
       "      <td>2000000.0</td>\n",
       "      <td>12</td>\n",
       "      <td>NaN</td>\n",
       "      <td>7896.0</td>\n",
       "      <td>$253</td>\n",
       "      <td>71 days</td>\n",
       "      <td>None</td>\n",
       "      <td>1910</td>\n",
       "      <td>4,199 Sq. Ft.</td>\n",
       "      <td>2020-11-10</td>\n",
       "      <td>17-Hoff-St-94110</td>\n",
       "      <td>multi_fam</td>\n",
       "    </tr>\n",
       "    <tr>\n",
       "      <th>922</th>\n",
       "      <td>375 Carl St</td>\n",
       "      <td>Parnassus/Ashbury Heights</td>\n",
       "      <td>2585000.0</td>\n",
       "      <td>12</td>\n",
       "      <td>NaN</td>\n",
       "      <td>4260.0</td>\n",
       "      <td>$607</td>\n",
       "      <td>65 days</td>\n",
       "      <td>None</td>\n",
       "      <td>1961</td>\n",
       "      <td>5,353 Sq. Ft.</td>\n",
       "      <td>2020-11-16</td>\n",
       "      <td>375-Carl-St-94117</td>\n",
       "      <td>multi_fam</td>\n",
       "    </tr>\n",
       "    <tr>\n",
       "      <th>936</th>\n",
       "      <td>1748 Grove St</td>\n",
       "      <td>North Panhandle</td>\n",
       "      <td>1555000.0</td>\n",
       "      <td>&lt;NA&gt;</td>\n",
       "      <td>NaN</td>\n",
       "      <td>3304.0</td>\n",
       "      <td>$471</td>\n",
       "      <td>82 days</td>\n",
       "      <td>None</td>\n",
       "      <td>1921</td>\n",
       "      <td>3,571 Sq. Ft.</td>\n",
       "      <td>2020-10-30</td>\n",
       "      <td>1748-Grove-St-94117</td>\n",
       "      <td>multi_fam</td>\n",
       "    </tr>\n",
       "    <tr>\n",
       "      <th>1098</th>\n",
       "      <td>1445 Mason St</td>\n",
       "      <td>Nob Hill</td>\n",
       "      <td>6850000.0</td>\n",
       "      <td>22</td>\n",
       "      <td>NaN</td>\n",
       "      <td>13132.0</td>\n",
       "      <td>$522</td>\n",
       "      <td>365 days</td>\n",
       "      <td>None</td>\n",
       "      <td>1913</td>\n",
       "      <td>5,497 Sq. Ft.</td>\n",
       "      <td>2020-01-21</td>\n",
       "      <td>1445-Mason-St-94133</td>\n",
       "      <td>multi_fam</td>\n",
       "    </tr>\n",
       "    <tr>\n",
       "      <th>725</th>\n",
       "      <td>99 Rausch St #521</td>\n",
       "      <td>South of Market</td>\n",
       "      <td>1300000.0</td>\n",
       "      <td>1</td>\n",
       "      <td>NaN</td>\n",
       "      <td>834.0</td>\n",
       "      <td>$1,559</td>\n",
       "      <td>336 days</td>\n",
       "      <td>$720/month</td>\n",
       "      <td>2018</td>\n",
       "      <td>—</td>\n",
       "      <td>2020-02-19</td>\n",
       "      <td>99-Rausch-St-94103</td>\n",
       "      <td>townhouse</td>\n",
       "    </tr>\n",
       "  </tbody>\n",
       "</table>\n",
       "</div>"
      ],
      "text/plain": [
       "                Address                   Location      Price  Beds  Baths  \\\n",
       "924       17-23 Hoff St              Inner Mission  2000000.0    12    NaN   \n",
       "922         375 Carl St  Parnassus/Ashbury Heights  2585000.0    12    NaN   \n",
       "936       1748 Grove St            North Panhandle  1555000.0  <NA>    NaN   \n",
       "1098      1445 Mason St                   Nob Hill  6850000.0    22    NaN   \n",
       "725   99 Rausch St #521            South of Market  1300000.0     1    NaN   \n",
       "\n",
       "       Sq.Ft. $/Sq.Ft. On Redfin         HOA Year Built       Lot Size  \\\n",
       "924    7896.0     $253   71 days        None       1910  4,199 Sq. Ft.   \n",
       "922    4260.0     $607   65 days        None       1961  5,353 Sq. Ft.   \n",
       "936    3304.0     $471   82 days        None       1921  3,571 Sq. Ft.   \n",
       "1098  13132.0     $522  365 days        None       1913  5,497 Sq. Ft.   \n",
       "725     834.0   $1,559  336 days  $720/month       2018              —   \n",
       "\n",
       "      Date Sold             Zip Code  prop_type  \n",
       "924  2020-11-10     17-Hoff-St-94110  multi_fam  \n",
       "922  2020-11-16    375-Carl-St-94117  multi_fam  \n",
       "936  2020-10-30  1748-Grove-St-94117  multi_fam  \n",
       "1098 2020-01-21  1445-Mason-St-94133  multi_fam  \n",
       "725  2020-02-19   99-Rausch-St-94103  townhouse  "
      ]
     },
     "execution_count": 27,
     "metadata": {},
     "output_type": "execute_result"
    }
   ],
   "source": [
    "#check missing values in Baths\n",
    "print(df[\"Baths\"].isna().sum())\n",
    "df[df[\"Baths\"].isna()].sort_values(\"prop_type\").head(10)#still have 99 missing values, 92 multi-family units\n",
    "df[df[\"Baths\"].isna()].sort_values(\"prop_type\").tail()"
   ]
  },
  {
   "cell_type": "markdown",
   "id": "framed-depth",
   "metadata": {},
   "source": [
    "### ^ CONCLUSION: some values can be filled from indivial page, and both Beds and Baths are missing @ random (mostly missing in multi-family units) <br> Safe to drop NAs"
   ]
  },
  {
   "cell_type": "code",
   "execution_count": 28,
   "id": "indonesian-harassment",
   "metadata": {
    "scrolled": true
   },
   "outputs": [
    {
     "name": "stdout",
     "output_type": "stream",
     "text": [
      "<class 'pandas.core.frame.DataFrame'>\n",
      "Int64Index: 807 entries, 0 to 1138\n",
      "Data columns (total 14 columns):\n",
      " #   Column      Non-Null Count  Dtype         \n",
      "---  ------      --------------  -----         \n",
      " 0   Address     807 non-null    object        \n",
      " 1   Location    807 non-null    object        \n",
      " 2   Price       807 non-null    float64       \n",
      " 3   Beds        807 non-null    Int64         \n",
      " 4   Baths       807 non-null    float64       \n",
      " 5   Sq.Ft.      807 non-null    float64       \n",
      " 6   $/Sq.Ft.    807 non-null    object        \n",
      " 7   On Redfin   807 non-null    object        \n",
      " 8   HOA         807 non-null    object        \n",
      " 9   Year Built  807 non-null    object        \n",
      " 10  Lot Size    807 non-null    object        \n",
      " 11  Date Sold   807 non-null    datetime64[ns]\n",
      " 12  Zip Code    807 non-null    object        \n",
      " 13  prop_type   807 non-null    object        \n",
      "dtypes: Int64(1), datetime64[ns](1), float64(3), object(9)\n",
      "memory usage: 95.4+ KB\n"
     ]
    }
   ],
   "source": [
    "#drop observations with missing values in Beds and Baths\n",
    "df.dropna(subset = [\"Beds\", \"Baths\"], axis = 0, inplace = True)\n",
    "df.info()"
   ]
  },
  {
   "cell_type": "code",
   "execution_count": 29,
   "id": "searching-necessity",
   "metadata": {},
   "outputs": [
    {
     "name": "stdout",
     "output_type": "stream",
     "text": [
      "0\n"
     ]
    },
    {
     "data": {
      "text/plain": [
       "0       446\n",
       "350      13\n",
       "300      12\n",
       "400       9\n",
       "250       8\n",
       "       ... \n",
       "420       1\n",
       "425       1\n",
       "426       1\n",
       "431       1\n",
       "1010      1\n",
       "Name: HOA, Length: 265, dtype: int64"
      ]
     },
     "execution_count": 29,
     "metadata": {},
     "output_type": "execute_result"
    }
   ],
   "source": [
    "#check missing values in HOA\n",
    "print(len(df[df[\"HOA\"] == \"\"])) #no missing value in HOA\n",
    "df[\"HOA\"].value_counts() \n",
    "\n",
    "#turn HOA into numeric\n",
    "df[\"HOA\"] = [\"\".join(h.split(\"/\")[0].strip(\"$\").split(\",\")) for h in df[\"HOA\"]]\n",
    "df[\"HOA\"].replace({\"None\":\"0\"}, inplace = True)\n",
    "df[\"HOA\"] = pd.to_numeric(df[\"HOA\"])\n",
    "df[\"HOA\"].value_counts()"
   ]
  },
  {
   "cell_type": "code",
   "execution_count": 30,
   "id": "international-store",
   "metadata": {},
   "outputs": [
    {
     "name": "stdout",
     "output_type": "stream",
     "text": [
      "28\n"
     ]
    },
    {
     "data": {
      "text/plain": [
       "28"
      ]
     },
     "execution_count": 30,
     "metadata": {},
     "output_type": "execute_result"
    }
   ],
   "source": [
    "#check missing values in Year Built\n",
    "print(len(df[df[\"Year Built\"] == \"—\"])) #28 missing values in Year Built\n",
    "df[\"Year Built\"].replace({\"—\":None}, inplace = True)\n",
    "\n",
    "#convert Year Built to an interger\n",
    "df[\"Year Built\"] = pd.to_numeric(df[\"Year Built\"]).astype(\"Int64\")\n",
    "df[\"Year Built\"].value_counts().sort_index(ascending = False)\n",
    "df[\"Year Built\"].isna().sum()"
   ]
  },
  {
   "cell_type": "markdown",
   "id": "occasional-president",
   "metadata": {},
   "source": [
    "### LOOK at missing values in Year Built"
   ]
  },
  {
   "cell_type": "code",
   "execution_count": 31,
   "id": "complete-finnish",
   "metadata": {
    "scrolled": true
   },
   "outputs": [
    {
     "data": {
      "text/html": [
       "<div>\n",
       "<style scoped>\n",
       "    .dataframe tbody tr th:only-of-type {\n",
       "        vertical-align: middle;\n",
       "    }\n",
       "\n",
       "    .dataframe tbody tr th {\n",
       "        vertical-align: top;\n",
       "    }\n",
       "\n",
       "    .dataframe thead th {\n",
       "        text-align: right;\n",
       "    }\n",
       "</style>\n",
       "<table border=\"1\" class=\"dataframe\">\n",
       "  <thead>\n",
       "    <tr style=\"text-align: right;\">\n",
       "      <th></th>\n",
       "      <th>Address</th>\n",
       "      <th>Location</th>\n",
       "      <th>Price</th>\n",
       "      <th>Beds</th>\n",
       "      <th>Baths</th>\n",
       "      <th>Sq.Ft.</th>\n",
       "      <th>$/Sq.Ft.</th>\n",
       "      <th>On Redfin</th>\n",
       "      <th>HOA</th>\n",
       "      <th>Year Built</th>\n",
       "      <th>Lot Size</th>\n",
       "      <th>Date Sold</th>\n",
       "      <th>Zip Code</th>\n",
       "      <th>prop_type</th>\n",
       "    </tr>\n",
       "  </thead>\n",
       "  <tbody>\n",
       "    <tr>\n",
       "      <th>423</th>\n",
       "      <td>555 Fulton St #410</td>\n",
       "      <td>Hayes Valley</td>\n",
       "      <td>699000.0</td>\n",
       "      <td>1</td>\n",
       "      <td>1.0</td>\n",
       "      <td>512.0</td>\n",
       "      <td>$1,365</td>\n",
       "      <td>237 days</td>\n",
       "      <td>486</td>\n",
       "      <td>&lt;NA&gt;</td>\n",
       "      <td>—</td>\n",
       "      <td>2020-05-28</td>\n",
       "      <td>555-Fulton-St-94102</td>\n",
       "      <td>condo</td>\n",
       "    </tr>\n",
       "    <tr>\n",
       "      <th>498</th>\n",
       "      <td>555 Fulton St #215</td>\n",
       "      <td>Hayes Valley</td>\n",
       "      <td>719000.0</td>\n",
       "      <td>1</td>\n",
       "      <td>1.0</td>\n",
       "      <td>708.0</td>\n",
       "      <td>$1,016</td>\n",
       "      <td>63 days</td>\n",
       "      <td>680</td>\n",
       "      <td>&lt;NA&gt;</td>\n",
       "      <td>—</td>\n",
       "      <td>2020-11-18</td>\n",
       "      <td>555-Fulton-St-94102</td>\n",
       "      <td>condo</td>\n",
       "    </tr>\n",
       "    <tr>\n",
       "      <th>473</th>\n",
       "      <td>1163 Alabama St</td>\n",
       "      <td>Inner Mission</td>\n",
       "      <td>790000.0</td>\n",
       "      <td>2</td>\n",
       "      <td>1.0</td>\n",
       "      <td>988.0</td>\n",
       "      <td>$800</td>\n",
       "      <td>41 days</td>\n",
       "      <td>420</td>\n",
       "      <td>&lt;NA&gt;</td>\n",
       "      <td>—</td>\n",
       "      <td>2020-12-10</td>\n",
       "      <td>1163-Alabama-St-94110</td>\n",
       "      <td>condo</td>\n",
       "    </tr>\n",
       "    <tr>\n",
       "      <th>704</th>\n",
       "      <td>720 York #212</td>\n",
       "      <td>Inner Mission</td>\n",
       "      <td>800000.0</td>\n",
       "      <td>1</td>\n",
       "      <td>1.0</td>\n",
       "      <td>618.0</td>\n",
       "      <td>$1,294</td>\n",
       "      <td>58 days</td>\n",
       "      <td>553</td>\n",
       "      <td>&lt;NA&gt;</td>\n",
       "      <td>—</td>\n",
       "      <td>2020-11-23</td>\n",
       "      <td>720-York-St-94110</td>\n",
       "      <td>townhouse</td>\n",
       "    </tr>\n",
       "    <tr>\n",
       "      <th>454</th>\n",
       "      <td>1050 North Pt #202</td>\n",
       "      <td>Russian Hill</td>\n",
       "      <td>850000.0</td>\n",
       "      <td>2</td>\n",
       "      <td>1.0</td>\n",
       "      <td>984.0</td>\n",
       "      <td>$864</td>\n",
       "      <td>27 days</td>\n",
       "      <td>1171</td>\n",
       "      <td>&lt;NA&gt;</td>\n",
       "      <td>—</td>\n",
       "      <td>2020-12-24</td>\n",
       "      <td>1050-N-Point-St-94109</td>\n",
       "      <td>condo</td>\n",
       "    </tr>\n",
       "    <tr>\n",
       "      <th>734</th>\n",
       "      <td>1376 A Natoma</td>\n",
       "      <td>Inner Mission</td>\n",
       "      <td>930000.0</td>\n",
       "      <td>3</td>\n",
       "      <td>2.0</td>\n",
       "      <td>1045.0</td>\n",
       "      <td>$890</td>\n",
       "      <td>9 days</td>\n",
       "      <td>350</td>\n",
       "      <td>&lt;NA&gt;</td>\n",
       "      <td>—</td>\n",
       "      <td>2021-01-11</td>\n",
       "      <td>1376-Natoma-St-94103</td>\n",
       "      <td>townhouse</td>\n",
       "    </tr>\n",
       "    <tr>\n",
       "      <th>590</th>\n",
       "      <td>1788 Clay St #806</td>\n",
       "      <td>Nob Hill</td>\n",
       "      <td>985000.0</td>\n",
       "      <td>1</td>\n",
       "      <td>1.0</td>\n",
       "      <td>657.0</td>\n",
       "      <td>$1,499</td>\n",
       "      <td>154 days</td>\n",
       "      <td>633</td>\n",
       "      <td>&lt;NA&gt;</td>\n",
       "      <td>—</td>\n",
       "      <td>2020-08-19</td>\n",
       "      <td>1788-Clay-St-94109</td>\n",
       "      <td>condo</td>\n",
       "    </tr>\n",
       "    <tr>\n",
       "      <th>100</th>\n",
       "      <td>610 Holloway Ave</td>\n",
       "      <td>Ingleside</td>\n",
       "      <td>1065000.0</td>\n",
       "      <td>5</td>\n",
       "      <td>5.0</td>\n",
       "      <td>2300.0</td>\n",
       "      <td>$463</td>\n",
       "      <td>37 days</td>\n",
       "      <td>0</td>\n",
       "      <td>&lt;NA&gt;</td>\n",
       "      <td>2,495 Sq. Ft.</td>\n",
       "      <td>2020-12-14</td>\n",
       "      <td>610-Holloway-Ave-94112</td>\n",
       "      <td>house</td>\n",
       "    </tr>\n",
       "  </tbody>\n",
       "</table>\n",
       "</div>"
      ],
      "text/plain": [
       "                Address       Location      Price  Beds  Baths  Sq.Ft.  \\\n",
       "423  555 Fulton St #410   Hayes Valley   699000.0     1    1.0   512.0   \n",
       "498  555 Fulton St #215   Hayes Valley   719000.0     1    1.0   708.0   \n",
       "473     1163 Alabama St  Inner Mission   790000.0     2    1.0   988.0   \n",
       "704       720 York #212  Inner Mission   800000.0     1    1.0   618.0   \n",
       "454  1050 North Pt #202   Russian Hill   850000.0     2    1.0   984.0   \n",
       "734       1376 A Natoma  Inner Mission   930000.0     3    2.0  1045.0   \n",
       "590   1788 Clay St #806       Nob Hill   985000.0     1    1.0   657.0   \n",
       "100    610 Holloway Ave      Ingleside  1065000.0     5    5.0  2300.0   \n",
       "\n",
       "    $/Sq.Ft. On Redfin   HOA  Year Built       Lot Size  Date Sold  \\\n",
       "423   $1,365  237 days   486        <NA>              — 2020-05-28   \n",
       "498   $1,016   63 days   680        <NA>              — 2020-11-18   \n",
       "473     $800   41 days   420        <NA>              — 2020-12-10   \n",
       "704   $1,294   58 days   553        <NA>              — 2020-11-23   \n",
       "454     $864   27 days  1171        <NA>              — 2020-12-24   \n",
       "734     $890    9 days   350        <NA>              — 2021-01-11   \n",
       "590   $1,499  154 days   633        <NA>              — 2020-08-19   \n",
       "100     $463   37 days     0        <NA>  2,495 Sq. Ft. 2020-12-14   \n",
       "\n",
       "                   Zip Code  prop_type  \n",
       "423     555-Fulton-St-94102      condo  \n",
       "498     555-Fulton-St-94102      condo  \n",
       "473   1163-Alabama-St-94110      condo  \n",
       "704       720-York-St-94110  townhouse  \n",
       "454   1050-N-Point-St-94109      condo  \n",
       "734    1376-Natoma-St-94103  townhouse  \n",
       "590      1788-Clay-St-94109      condo  \n",
       "100  610-Holloway-Ave-94112      house  "
      ]
     },
     "execution_count": 31,
     "metadata": {},
     "output_type": "execute_result"
    }
   ],
   "source": [
    "df[df[\"Year Built\"].isna()].sort_values(\"Price\").head(8)"
   ]
  },
  {
   "cell_type": "code",
   "execution_count": 32,
   "id": "genetic-settle",
   "metadata": {
    "scrolled": false
   },
   "outputs": [
    {
     "data": {
      "text/html": [
       "<div>\n",
       "<style scoped>\n",
       "    .dataframe tbody tr th:only-of-type {\n",
       "        vertical-align: middle;\n",
       "    }\n",
       "\n",
       "    .dataframe tbody tr th {\n",
       "        vertical-align: top;\n",
       "    }\n",
       "\n",
       "    .dataframe thead th {\n",
       "        text-align: right;\n",
       "    }\n",
       "</style>\n",
       "<table border=\"1\" class=\"dataframe\">\n",
       "  <thead>\n",
       "    <tr style=\"text-align: right;\">\n",
       "      <th></th>\n",
       "      <th>Address</th>\n",
       "      <th>Location</th>\n",
       "      <th>Price</th>\n",
       "      <th>Beds</th>\n",
       "      <th>Baths</th>\n",
       "      <th>Sq.Ft.</th>\n",
       "      <th>$/Sq.Ft.</th>\n",
       "      <th>On Redfin</th>\n",
       "      <th>HOA</th>\n",
       "      <th>Year Built</th>\n",
       "      <th>Lot Size</th>\n",
       "      <th>Date Sold</th>\n",
       "      <th>Zip Code</th>\n",
       "      <th>prop_type</th>\n",
       "    </tr>\n",
       "  </thead>\n",
       "  <tbody>\n",
       "    <tr>\n",
       "      <th>733</th>\n",
       "      <td>1788 Clay St Unit TH3</td>\n",
       "      <td>Nob Hill</td>\n",
       "      <td>2200000.0</td>\n",
       "      <td>3</td>\n",
       "      <td>2.0</td>\n",
       "      <td>1710.0</td>\n",
       "      <td>$1,287</td>\n",
       "      <td>7 days</td>\n",
       "      <td>955</td>\n",
       "      <td>&lt;NA&gt;</td>\n",
       "      <td>—</td>\n",
       "      <td>2021-01-13</td>\n",
       "      <td>1788-Clay-St-94109</td>\n",
       "      <td>townhouse</td>\n",
       "    </tr>\n",
       "    <tr>\n",
       "      <th>239</th>\n",
       "      <td>152 Fairmount St</td>\n",
       "      <td>Glen Park</td>\n",
       "      <td>2400000.0</td>\n",
       "      <td>3</td>\n",
       "      <td>2.0</td>\n",
       "      <td>1716.0</td>\n",
       "      <td>$1,399</td>\n",
       "      <td>180 days</td>\n",
       "      <td>0</td>\n",
       "      <td>&lt;NA&gt;</td>\n",
       "      <td>3,125 Sq. Ft.</td>\n",
       "      <td>2020-07-24</td>\n",
       "      <td>152-Fairmount-St-94131</td>\n",
       "      <td>house</td>\n",
       "    </tr>\n",
       "    <tr>\n",
       "      <th>7</th>\n",
       "      <td>28-30 Santa Marina</td>\n",
       "      <td>Bernal Heights</td>\n",
       "      <td>2500000.0</td>\n",
       "      <td>6</td>\n",
       "      <td>4.0</td>\n",
       "      <td>2872.0</td>\n",
       "      <td>$870</td>\n",
       "      <td>110 days</td>\n",
       "      <td>0</td>\n",
       "      <td>&lt;NA&gt;</td>\n",
       "      <td>2,500 Sq. Ft.</td>\n",
       "      <td>2020-10-02</td>\n",
       "      <td>28-30-Santa-Marina-St-94110</td>\n",
       "      <td>house</td>\n",
       "    </tr>\n",
       "    <tr>\n",
       "      <th>510</th>\n",
       "      <td>369 Arguello Blvd</td>\n",
       "      <td>Inner Richmond</td>\n",
       "      <td>3250000.0</td>\n",
       "      <td>5</td>\n",
       "      <td>2.5</td>\n",
       "      <td>3315.0</td>\n",
       "      <td>$980</td>\n",
       "      <td>71 days</td>\n",
       "      <td>200</td>\n",
       "      <td>&lt;NA&gt;</td>\n",
       "      <td>—</td>\n",
       "      <td>2020-11-10</td>\n",
       "      <td>369-Arguello-Blvd-94118</td>\n",
       "      <td>condo</td>\n",
       "    </tr>\n",
       "    <tr>\n",
       "      <th>87</th>\n",
       "      <td>3041 Laguna</td>\n",
       "      <td>Cow Hollow</td>\n",
       "      <td>5795000.0</td>\n",
       "      <td>5</td>\n",
       "      <td>4.5</td>\n",
       "      <td>3774.0</td>\n",
       "      <td>$1,536</td>\n",
       "      <td>23 days</td>\n",
       "      <td>0</td>\n",
       "      <td>&lt;NA&gt;</td>\n",
       "      <td>—</td>\n",
       "      <td>2020-12-28</td>\n",
       "      <td>3041-Laguna-St-94123</td>\n",
       "      <td>house</td>\n",
       "    </tr>\n",
       "  </tbody>\n",
       "</table>\n",
       "</div>"
      ],
      "text/plain": [
       "                   Address        Location      Price  Beds  Baths  Sq.Ft.  \\\n",
       "733  1788 Clay St Unit TH3        Nob Hill  2200000.0     3    2.0  1710.0   \n",
       "239       152 Fairmount St       Glen Park  2400000.0     3    2.0  1716.0   \n",
       "7       28-30 Santa Marina  Bernal Heights  2500000.0     6    4.0  2872.0   \n",
       "510      369 Arguello Blvd  Inner Richmond  3250000.0     5    2.5  3315.0   \n",
       "87             3041 Laguna      Cow Hollow  5795000.0     5    4.5  3774.0   \n",
       "\n",
       "    $/Sq.Ft. On Redfin  HOA  Year Built       Lot Size  Date Sold  \\\n",
       "733   $1,287    7 days  955        <NA>              — 2021-01-13   \n",
       "239   $1,399  180 days    0        <NA>  3,125 Sq. Ft. 2020-07-24   \n",
       "7       $870  110 days    0        <NA>  2,500 Sq. Ft. 2020-10-02   \n",
       "510     $980   71 days  200        <NA>              — 2020-11-10   \n",
       "87    $1,536   23 days    0        <NA>              — 2020-12-28   \n",
       "\n",
       "                        Zip Code  prop_type  \n",
       "733           1788-Clay-St-94109  townhouse  \n",
       "239       152-Fairmount-St-94131      house  \n",
       "7    28-30-Santa-Marina-St-94110      house  \n",
       "510      369-Arguello-Blvd-94118      condo  \n",
       "87          3041-Laguna-St-94123      house  "
      ]
     },
     "execution_count": 32,
     "metadata": {},
     "output_type": "execute_result"
    }
   ],
   "source": [
    "df[df[\"Year Built\"].isna()].sort_values(\"Price\").tail()"
   ]
  },
  {
   "cell_type": "code",
   "execution_count": 33,
   "id": "earned-infrastructure",
   "metadata": {},
   "outputs": [
    {
     "data": {
      "image/png": "[encoded data removed]",
      "text/plain": [
       "<Figure size 432x288 with 1 Axes>"
      ]
     },
     "metadata": {
      "needs_background": "light"
     },
     "output_type": "display_data"
    }
   ],
   "source": [
    "#look at distribution of Year Built\n",
    "YB_noNA = df[df[\"Year Built\"].notnull()][\"Year Built\"]\n",
    "plt.hist(YB_noNA, bins = 100)\n",
    "plt.title(\"Property Distribution by Year Built\", fontsize = 15)\n",
    "plt.ylabel(\"Number of Properties\", fontsize = 12)\n",
    "plt.xlabel(\"Year Built\", fontsize = 12);"
   ]
  },
  {
   "cell_type": "markdown",
   "id": "appointed-transsexual",
   "metadata": {},
   "source": [
    "### ^ CONCLUSION: Looks like missing at completely random, info. can be found in individual page <br> Impute with random sampling from the range of Year Built"
   ]
  },
  {
   "cell_type": "code",
   "execution_count": 34,
   "id": "classical-prevention",
   "metadata": {},
   "outputs": [],
   "source": [
    "#number of NAs in Year Built\n",
    "mask = df[\"Year Built\"].isna()\n",
    "YB_NAs = mask.sum()\n",
    "\n",
    "#fill in NAs with random sampling\n",
    "fill = np.random.choice(df[df[\"Year Built\"].notnull()][\"Year Built\"].values, size = YB_NAs)\n",
    "df.loc[mask, \"Year Built\"] = fill"
   ]
  },
  {
   "cell_type": "code",
   "execution_count": 35,
   "id": "japanese-princess",
   "metadata": {},
   "outputs": [
    {
     "name": "stdout",
     "output_type": "stream",
     "text": [
      "<class 'pandas.core.frame.DataFrame'>\n",
      "Int64Index: 807 entries, 0 to 1138\n",
      "Data columns (total 14 columns):\n",
      " #   Column      Non-Null Count  Dtype         \n",
      "---  ------      --------------  -----         \n",
      " 0   Address     807 non-null    object        \n",
      " 1   Location    807 non-null    object        \n",
      " 2   Price       807 non-null    float64       \n",
      " 3   Beds        807 non-null    Int64         \n",
      " 4   Baths       807 non-null    float64       \n",
      " 5   Sq.Ft.      807 non-null    float64       \n",
      " 6   $/Sq.Ft.    807 non-null    object        \n",
      " 7   On Redfin   807 non-null    object        \n",
      " 8   HOA         807 non-null    int64         \n",
      " 9   Year Built  807 non-null    Int64         \n",
      " 10  Lot Size    807 non-null    object        \n",
      " 11  Date Sold   807 non-null    datetime64[ns]\n",
      " 12  Zip Code    807 non-null    object        \n",
      " 13  prop_type   807 non-null    object        \n",
      "dtypes: Int64(2), datetime64[ns](1), float64(3), int64(1), object(7)\n",
      "memory usage: 96.1+ KB\n"
     ]
    }
   ],
   "source": [
    "df.info()"
   ]
  },
  {
   "cell_type": "code",
   "execution_count": 36,
   "id": "ignored-motorcycle",
   "metadata": {},
   "outputs": [
    {
     "data": {
      "image/png": "[encoded data removed]",
      "text/plain": [
       "<Figure size 432x288 with 1 Axes>"
      ]
     },
     "metadata": {
      "needs_background": "light"
     },
     "output_type": "display_data"
    }
   ],
   "source": [
    "#double check distribution of Year Built\n",
    "plt.hist(df[\"Year Built\"], bins = 100)\n",
    "plt.title(\"Property Distribution by Year Built\", fontsize = 15)\n",
    "plt.ylabel(\"Number of Properties\", fontsize = 12)\n",
    "plt.xlabel(\"Year Built\", fontsize = 12);"
   ]
  },
  {
   "cell_type": "code",
   "execution_count": 37,
   "id": "cardiac-thanks",
   "metadata": {},
   "outputs": [
    {
     "name": "stdout",
     "output_type": "stream",
     "text": [
      "368\n",
      "0\n",
      "0\n"
     ]
    }
   ],
   "source": [
    "#check missing values in Lot Size and Date Sold\n",
    "print(len(df[df[\"Lot Size\"] == \"—\"])) #368 missing values in LotSize, make sense to be missing for condo\n",
    "\n",
    "print(len(df[df[\"Date Sold\"] == \"—\"]))\n",
    "print(len(df[df[\"Date Sold\"] == \"\"])) #0 missing values in Date Sold, should divide in month and year\n",
    "\n",
    "#extract the year and month from Date Sold\n",
    "df[\"year_sold\"] = pd.DatetimeIndex(df[\"Date Sold\"]).year\n",
    "df[\"month_sold\"] = pd.DatetimeIndex(df[\"Date Sold\"]).month"
   ]
  },
  {
   "cell_type": "code",
   "execution_count": 38,
   "id": "tested-qualification",
   "metadata": {},
   "outputs": [
    {
     "data": {
      "image/png": "[encoded data removed]",
      "text/plain": [
       "<Figure size 720x576 with 2 Axes>"
      ]
     },
     "metadata": {
      "needs_background": "light"
     },
     "output_type": "display_data"
    }
   ],
   "source": [
    "#Does property price goes up or down the past year?\n",
    "price_month = df.groupby([\"year_sold\", \"month_sold\"])[\"Price\"].median()\n",
    "num_prop = df.groupby([\"year_sold\", \"month_sold\"])[\"Price\"].count()\n",
    "\n",
    "plt.figure(figsize = [10, 8])\n",
    "\n",
    "plt.subplot(2,1,1)\n",
    "plt.plot(range(len(price_month)), price_month, linewidth = 3)\n",
    "plt.title(\"Median Property Price in the Past Year\", fontsize = 15, weight = \"bold\")\n",
    "plt.ylabel(\"Median Property Price\", fontsize = 12, weight = \"bold\")\n",
    "ytick_lab = [\"1.5million\", \"1.6million\", \"1.7million\", \"1.8million\", \"1.9million\"]\n",
    "plt.yticks(ticks = list(range(1500000, 2000000, 100000)), labels = ytick_lab)\n",
    "\n",
    "plt.subplot(2,1,2)\n",
    "#change color of every other bar\n",
    "barlist = plt.bar(range(len(num_prop)), num_prop)\n",
    "for bar in range(0, len(barlist), 2):\n",
    "    barlist[bar].set_color(\"lightblue\")\n",
    "plt.title(\"Number of Property Sold in the Past Year\", fontsize = 15, weight = \"bold\")\n",
    "plt.ylabel(\"Number of Property\", fontsize = 12, weight = \"bold\")\n",
    "plt.xlabel(\"Jan 2020 to Jan 2021\", fontsize = 12, weight = \"bold\")\n",
    "xtick_lab = [\"Jan 20\", \"Feb 20\", \"Mar 20\", \"Apr 20\", \"May 20\", \"Jun 20\", \n",
    "             \"Jul 20\", \"Aug 20\", \"Sep 20\", \"Oct 20\", \"Nov 20\", \"Dec 20\", \"Jan 21\"]\n",
    "plt.xticks(range(len(price_month)), xtick_lab, rotation = 45)\n",
    "plt.savefig(\"median_price_past_year.svg\");"
   ]
  },
  {
   "cell_type": "code",
   "execution_count": 39,
   "id": "systematic-shower",
   "metadata": {
    "scrolled": true
   },
   "outputs": [
    {
     "name": "stdout",
     "output_type": "stream",
     "text": [
      "0\n",
      "0\n"
     ]
    },
    {
     "data": {
      "text/plain": [
       "94109    81\n",
       "94110    73\n",
       "94114    68\n",
       "94121    64\n",
       "94122    54\n",
       "94112    54\n",
       "94131    50\n",
       "94118    49\n",
       "94117    47\n",
       "94107    45\n",
       "94115    41\n",
       "94123    29\n",
       "94103    25\n",
       "94102    24\n",
       "94133    21\n",
       "94124    20\n",
       "94132    17\n",
       "94134    15\n",
       "94116     9\n",
       "94127     8\n",
       "94105     4\n",
       "94108     3\n",
       "94158     3\n",
       "94111     2\n",
       "94014     1\n",
       "Name: Zip Code, dtype: int64"
      ]
     },
     "execution_count": 39,
     "metadata": {},
     "output_type": "execute_result"
    }
   ],
   "source": [
    "#check missing values in Zip Code\n",
    "print(len(df[df[\"Zip Code\"] == \"—\"]))\n",
    "print(len(df[df[\"Zip Code\"] == \"\"])) #0 missing values in Zip Code, need to extract Zip Code from of the string\n",
    "\n",
    "#extrac zip code from the string\n",
    "df[\"Zip Code\"] = [zip.split(\"-\")[-1] for zip in df[\"Zip Code\"]]\n",
    "df[\"Zip Code\"].value_counts()"
   ]
  },
  {
   "cell_type": "code",
   "execution_count": 40,
   "id": "answering-remark",
   "metadata": {},
   "outputs": [],
   "source": [
    "#one zip code (one listing) maps to Daly City, delete\n",
    "df.drop(df[df[\"Zip Code\"] == \"94014\"].index, inplace = True)"
   ]
  },
  {
   "cell_type": "code",
   "execution_count": 41,
   "id": "quantitative-pierce",
   "metadata": {},
   "outputs": [
    {
     "name": "stdout",
     "output_type": "stream",
     "text": [
      "<class 'pandas.core.frame.DataFrame'>\n",
      "Int64Index: 806 entries, 0 to 1138\n",
      "Data columns (total 16 columns):\n",
      " #   Column      Non-Null Count  Dtype         \n",
      "---  ------      --------------  -----         \n",
      " 0   Address     806 non-null    object        \n",
      " 1   Location    806 non-null    object        \n",
      " 2   Price       806 non-null    float64       \n",
      " 3   Beds        806 non-null    Int64         \n",
      " 4   Baths       806 non-null    float64       \n",
      " 5   Sq.Ft.      806 non-null    float64       \n",
      " 6   $/Sq.Ft.    806 non-null    object        \n",
      " 7   On Redfin   806 non-null    object        \n",
      " 8   HOA         806 non-null    int64         \n",
      " 9   Year Built  806 non-null    Int64         \n",
      " 10  Lot Size    806 non-null    object        \n",
      " 11  Date Sold   806 non-null    datetime64[ns]\n",
      " 12  Zip Code    806 non-null    object        \n",
      " 13  prop_type   806 non-null    object        \n",
      " 14  year_sold   806 non-null    int64         \n",
      " 15  month_sold  806 non-null    int64         \n",
      "dtypes: Int64(2), datetime64[ns](1), float64(3), int64(3), object(7)\n",
      "memory usage: 108.6+ KB\n"
     ]
    }
   ],
   "source": [
    "df.info()"
   ]
  },
  {
   "cell_type": "code",
   "execution_count": 42,
   "id": "upset-symbol",
   "metadata": {},
   "outputs": [],
   "source": [
    "df.to_pickle(\"/Users/sarazzzz/Desktop/Metis/CAMP/Metis_project2/prop_df_cleaned\")"
   ]
  },
  {
   "cell_type": "code",
   "execution_count": null,
   "id": "skilled-gazette",
   "metadata": {},
   "outputs": [],
   "source": []
  }
 ],
 "metadata": {
  "kernelspec": {
   "display_name": "Python 3",
   "language": "python",
   "name": "python3"
  },
  "language_info": {
   "codemirror_mode": {
    "name": "ipython",
    "version": 3
   },
   "file_extension": ".py",
   "mimetype": "text/x-python",
   "name": "python",
   "nbconvert_exporter": "python",
   "pygments_lexer": "ipython3",
   "version": "3.8.5"
  }
 },
 "nbformat": 4,
 "nbformat_minor": 5
}
