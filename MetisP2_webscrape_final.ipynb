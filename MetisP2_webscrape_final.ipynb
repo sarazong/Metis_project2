{
 "cells": [
  {
   "cell_type": "markdown",
   "id": "suburban-calvin",
   "metadata": {},
   "source": [
    "## Pipeline for webscraping \n",
    "### Goals: <br> (1) get the summary table on each subpage of a search result <br> (2) click on each row in the summary table so additional information of the individual property can be colllected <br>\n",
    "<img src=\"project2_images/screenshot_redfin_SFprops.png\" style=\"width:300px;height:400px\">"
   ]
  },
  {
   "cell_type": "markdown",
   "id": "failing-intellectual",
   "metadata": {},
   "source": [
    "### Loading require packages"
   ]
  },
  {
   "cell_type": "code",
   "execution_count": 1,
   "id": "british-bedroom",
   "metadata": {},
   "outputs": [],
   "source": [
    "from selenium import webdriver\n",
    "from selenium.webdriver.common.keys import Keys\n",
    "import time\n",
    "from bs4 import BeautifulSoup\n",
    "import pandas as pd"
   ]
  },
  {
   "cell_type": "markdown",
   "id": "humanitarian-modification",
   "metadata": {},
   "source": [
    "### Defining functions for data collection from each subpage of a search result"
   ]
  },
  {
   "cell_type": "code",
   "execution_count": 2,
   "id": "incomplete-privilege",
   "metadata": {},
   "outputs": [],
   "source": [
    "def get_summary_table(soup):\n",
    "    \"\"\"Retrives information for property listing in the summary table\n",
    "    \n",
    "       Parameter: website link as a string\n",
    "       \n",
    "       Returns: a data frame with information from the summary table\n",
    "    \"\"\"\n",
    "    \n",
    "    #extract feature names from the summary table\n",
    "    variables = soup.find(class_ = \"ReactDataTable\").find_all(class_ = \"button-text\")[1:9]\n",
    "    headers = [var.text for var in variables]\n",
    "    \n",
    "    table = soup.find(class_ = \"tableList\").find_all(\"tr\", class_ = \"tableRow\")\n",
    "    \n",
    "    #extract feature values from the summary table\n",
    "    page_list = []\n",
    "    for row in table:\n",
    "        result = [element.text for element in row.find_all(class_ = \"column\")[1:9]]\n",
    "        house_dict = dict(zip(headers, result))\n",
    "        page_list.append(house_dict)\n",
    "    \n",
    "    summary_table = pd.DataFrame(page_list)\n",
    "    \n",
    "    return summary_table"
   ]
  },
  {
   "cell_type": "code",
   "execution_count": 3,
   "id": "ordered-onion",
   "metadata": {},
   "outputs": [],
   "source": [
    "def get_side_table(soup):\n",
    "    \"\"\"Retrives information for property from the side table and the image\n",
    "    \n",
    "       Parameter: html parsed by BeautifulSoup\n",
    "       \n",
    "       Returns: a data frame with information from the side table and the image\n",
    "    \"\"\"\n",
    "    \n",
    "    #extract date sold from the property image\n",
    "    date_sold = soup.find(class_ = \"Pill\").text \n",
    "    sub_string = date_sold.split()[-3:] \n",
    "    date_cleaned = \" \".join(sub_string)\n",
    "    \n",
    "    #extract zip cold from the property image\n",
    "    zip_code = soup.find(class_ = \"scrollable\").find(\"a\")[\"href\"] \n",
    "    zip_cleaned = zip_code.split(\"/\")[3]\n",
    "\n",
    "    #extract additional feature names from the side table\n",
    "    side_table_headers = soup.find(class_ = \"amenities\").find_all(class_ = \"title\")[2:5]\n",
    "    headers = [row.text for row in side_table_headers] + [\"Date Sold\", \"Zip Code\"]\n",
    "\n",
    "    #extract additional feature values from the side table\n",
    "    side_table_values = soup.find(class_ = \"amenities\").find_all(class_ = \"value\")[2:5]\n",
    "    values = [row.text for row in side_table_values] + [date_cleaned, zip_cleaned]\n",
    "\n",
    "    side_table = []\n",
    "    listing_part2 = dict(zip(headers, values))\n",
    "    side_table.append(listing_part2)\n",
    "\n",
    "    return side_table"
   ]
  },
  {
   "cell_type": "code",
   "execution_count": 4,
   "id": "mathematical-alliance",
   "metadata": {},
   "outputs": [],
   "source": [
    "def add_side_tables(soup, driver, side_tables):\n",
    "    \"\"\"Clicks through listings in the summary table to get additional information for individual listing\n",
    "    \n",
    "       Parameter: html parsed by BeautifulSoup\n",
    "       \n",
    "       Returns: a data frame with additional information for each listing\n",
    "    \"\"\"\n",
    "    \n",
    "    #extract information from image and side table from each listing\n",
    "    table = soup.find(class_ = \"tableList\").find_all(\"tr\", class_ = \"tableRow\")\n",
    "\n",
    "    for row in range(1, len(table)):\n",
    "        row_path = f\"//tr[contains(@id, 'ReactDataTableRow_{row}')]\"\n",
    "        ind_list = driver.find_element_by_xpath(row_path)\n",
    "        ind_list.click()\n",
    "        time.sleep(1)\n",
    "\n",
    "        soup = BeautifulSoup(driver.page_source, 'html.parser')\n",
    "        side_table = get_side_table(soup)\n",
    "        side_tables += side_table\n",
    "\n",
    "    additional_tables = pd.DataFrame(side_tables)\n",
    "    return additional_tables"
   ]
  },
  {
   "cell_type": "markdown",
   "id": "robust-mobile",
   "metadata": {},
   "source": [
    "### Defining function to click through subpages to get all the listings available for the search result"
   ]
  },
  {
   "cell_type": "code",
   "execution_count": 5,
   "id": "involved-perry",
   "metadata": {},
   "outputs": [],
   "source": [
    "def data_subpages(soup, driver, property_listings):\n",
    "    \"\"\"Clicks on the other subpages of a search result to collect all available listings from the search result\n",
    "    \n",
    "       Parameters: \n",
    "           soup: html parsed by BeautifulSoup\n",
    "           driver: chrome driver \n",
    "           property_listings: a list to collect all the dataframes from each subpage of a search result\n",
    "           \n",
    "       Returns: a data frame with all the available listings from a search result      \n",
    "    \"\"\"\n",
    "    \n",
    "    cont = soup.find(class_ = \"PagingControls\").find_all(class_ = \"clickable\")[-1][\"class\"][0]\n",
    "    while (cont != \"disabled\"):\n",
    "        #click through other subpages for the search result\n",
    "        page_path = \"//button[contains(@data-rf-test-id, 'next')]\"\n",
    "        next_page = driver.find_element_by_xpath(page_path)\n",
    "        next_page.click()\n",
    "        time.sleep(1)\n",
    "\n",
    "        #parse the html with BS and extract the summary table and the first side table from it\n",
    "        soup = BeautifulSoup(driver.page_source, 'html.parser')\n",
    "        summary_table = get_summary_table(soup)\n",
    "        side_tables = get_side_table(soup)\n",
    "\n",
    "        #click through each listing in the summary table to extract all the other side tables\n",
    "        additional_tables = add_side_tables(soup, driver, side_tables)\n",
    "\n",
    "        #put all information from a specific page together\n",
    "        from_page = pd.concat([summary_table, additional_tables], axis = 1)\n",
    "        property_listings.append(from_page)\n",
    "\n",
    "        cont = soup.find(class_ = \"PagingControls\").find_all(class_ = \"clickable\")[-1][\"class\"][0]\n",
    "    \n",
    "    return property_listings"
   ]
  },
  {
   "cell_type": "markdown",
   "id": "knowing-queen",
   "metadata": {},
   "source": [
    "### Putting everything together to get data available for a particular search "
   ]
  },
  {
   "cell_type": "code",
   "execution_count": 6,
   "id": "detailed-discount",
   "metadata": {},
   "outputs": [],
   "source": [
    "def data_property_type(url):\n",
    "    \"\"\"Retrives information of available property listings for a given property-type search\n",
    "    \n",
    "       Parameter: website link as a string\n",
    "       \n",
    "       Returns: a data frame with all the available property listings\n",
    "    \"\"\"\n",
    "    #navigate to target url with chromedriver\n",
    "    chromedriver = \"/Applications/chromedriver\"\n",
    "    driver = webdriver.Chrome(chromedriver)\n",
    "    driver.get(url)\n",
    "    time.sleep(1)\n",
    "    \n",
    "    #convert to table view\n",
    "    table_view = driver.find_element_by_xpath(\"//div[contains(@class, 'ModeToggler')]//span[contains(@class, 'table')]\")\n",
    "    table_view.click()\n",
    "    time.sleep(1)\n",
    "    \n",
    "    soup = BeautifulSoup(driver.page_source, 'html.parser')\n",
    "\n",
    "    #retrive information from the summary table, the first image, and first side table on the webpage\n",
    "    summary_table = get_summary_table(soup)\n",
    "    side_tables = get_side_table(soup)\n",
    "    \n",
    "    #retrive information from the rest of the images and side tables\n",
    "    additional_tables = add_side_tables(soup, driver, side_tables)\n",
    "    \n",
    "    #create a dataframe for all the information from the first page of the search result\n",
    "    from_page = pd.concat([summary_table, additional_tables], axis = 1)\n",
    "    property_listings = [from_page]\n",
    "    \n",
    "    master_property_listings = data_subpages(soup, driver, property_listings)\n",
    "        \n",
    "    driver.quit()\n",
    "    df = pd.concat(master_property_listings, axis = 0, ignore_index = True)\n",
    "    \n",
    "    return df"
   ]
  },
  {
   "cell_type": "markdown",
   "id": "favorite-classics",
   "metadata": {},
   "source": [
    "### Collecting data for houses sold in the past year"
   ]
  },
  {
   "cell_type": "code",
   "execution_count": null,
   "id": "offensive-processor",
   "metadata": {
    "scrolled": true
   },
   "outputs": [],
   "source": [
    "url = \"\"\"https://www.redfin.com/city/17151/CA/San-Francisco/filter/property-type=house,include=sold-1yr\"\"\"\n",
    "houses = data_property_type(url)"
   ]
  },
  {
   "cell_type": "code",
   "execution_count": null,
   "id": "composed-eclipse",
   "metadata": {
    "scrolled": false
   },
   "outputs": [],
   "source": [
    "houses.info()"
   ]
  },
  {
   "cell_type": "code",
   "execution_count": null,
   "id": "cultural-crystal",
   "metadata": {
    "scrolled": true
   },
   "outputs": [],
   "source": [
    "#add property type column to the data frame\n",
    "property_type = [\"house\"] * 350\n",
    "houses[\"prop_type\"] = property_type\n",
    "houses.head()"
   ]
  },
  {
   "cell_type": "markdown",
   "id": "acting-person",
   "metadata": {},
   "source": [
    "### Collecting data for condos sold in the past year"
   ]
  },
  {
   "cell_type": "code",
   "execution_count": null,
   "id": "involved-reducing",
   "metadata": {},
   "outputs": [],
   "source": [
    "url = \"https://www.redfin.com/city/17151/CA/San-Francisco/filter/property-type=condo,include=sold-1yr\"\n",
    "condos = data_property_type(url)"
   ]
  },
  {
   "cell_type": "code",
   "execution_count": null,
   "id": "protective-order",
   "metadata": {},
   "outputs": [],
   "source": [
    "condos.info()"
   ]
  },
  {
   "cell_type": "code",
   "execution_count": null,
   "id": "abstract-child",
   "metadata": {
    "scrolled": true
   },
   "outputs": [],
   "source": [
    "property_type = [\"condo\"] * 350\n",
    "condos[\"prop_type\"] = property_type\n",
    "condos.head()"
   ]
  },
  {
   "cell_type": "markdown",
   "id": "surprising-typing",
   "metadata": {},
   "source": [
    "### Collecting data for townhouse sold in the past year"
   ]
  },
  {
   "cell_type": "code",
   "execution_count": 7,
   "id": "legitimate-savannah",
   "metadata": {},
   "outputs": [],
   "source": [
    "url = \"https://www.redfin.com/city/17151/CA/San-Francisco/filter/property-type=townhouse,include=sold-1yr\"\n",
    "townhouses = data_property_type(url)"
   ]
  },
  {
   "cell_type": "code",
   "execution_count": 8,
   "id": "informed-compact",
   "metadata": {},
   "outputs": [
    {
     "name": "stdout",
     "output_type": "stream",
     "text": [
      "<class 'pandas.core.frame.DataFrame'>\n",
      "RangeIndex: 132 entries, 0 to 131\n",
      "Data columns (total 13 columns):\n",
      " #   Column      Non-Null Count  Dtype \n",
      "---  ------      --------------  ----- \n",
      " 0   Address     132 non-null    object\n",
      " 1   Location    132 non-null    object\n",
      " 2   Price       132 non-null    object\n",
      " 3   Beds        132 non-null    object\n",
      " 4   Baths       132 non-null    object\n",
      " 5   Sq.Ft.      132 non-null    object\n",
      " 6   $/Sq.Ft.    132 non-null    object\n",
      " 7   On Redfin   132 non-null    object\n",
      " 8   HOA         132 non-null    object\n",
      " 9   Year Built  132 non-null    object\n",
      " 10  Lot Size    132 non-null    object\n",
      " 11  Date Sold   132 non-null    object\n",
      " 12  Zip Code    132 non-null    object\n",
      "dtypes: object(13)\n",
      "memory usage: 13.5+ KB\n"
     ]
    }
   ],
   "source": [
    "townhouses.info()"
   ]
  },
  {
   "cell_type": "code",
   "execution_count": 9,
   "id": "animal-alexander",
   "metadata": {
    "scrolled": true
   },
   "outputs": [
    {
     "data": {
      "text/html": [
       "<div>\n",
       "<style scoped>\n",
       "    .dataframe tbody tr th:only-of-type {\n",
       "        vertical-align: middle;\n",
       "    }\n",
       "\n",
       "    .dataframe tbody tr th {\n",
       "        vertical-align: top;\n",
       "    }\n",
       "\n",
       "    .dataframe thead th {\n",
       "        text-align: right;\n",
       "    }\n",
       "</style>\n",
       "<table border=\"1\" class=\"dataframe\">\n",
       "  <thead>\n",
       "    <tr style=\"text-align: right;\">\n",
       "      <th></th>\n",
       "      <th>Address</th>\n",
       "      <th>Location</th>\n",
       "      <th>Price</th>\n",
       "      <th>Beds</th>\n",
       "      <th>Baths</th>\n",
       "      <th>Sq.Ft.</th>\n",
       "      <th>$/Sq.Ft.</th>\n",
       "      <th>On Redfin</th>\n",
       "      <th>HOA</th>\n",
       "      <th>Year Built</th>\n",
       "      <th>Lot Size</th>\n",
       "      <th>Date Sold</th>\n",
       "      <th>Zip Code</th>\n",
       "      <th>prop_type</th>\n",
       "    </tr>\n",
       "  </thead>\n",
       "  <tbody>\n",
       "    <tr>\n",
       "      <th>0</th>\n",
       "      <td>4150 17th St #25</td>\n",
       "      <td>Corona Heights</td>\n",
       "      <td>$1,450,000</td>\n",
       "      <td>2</td>\n",
       "      <td>2</td>\n",
       "      <td>1,598</td>\n",
       "      <td>$907</td>\n",
       "      <td>19 days</td>\n",
       "      <td>$712/month</td>\n",
       "      <td>1994</td>\n",
       "      <td>—</td>\n",
       "      <td>JAN 5, 2021</td>\n",
       "      <td>4150-17th-St-94114</td>\n",
       "      <td>townhouse</td>\n",
       "    </tr>\n",
       "    <tr>\n",
       "      <th>1</th>\n",
       "      <td>271 Shipley St Unit F6</td>\n",
       "      <td>South of Market</td>\n",
       "      <td>$789,000</td>\n",
       "      <td>2</td>\n",
       "      <td>1</td>\n",
       "      <td>808</td>\n",
       "      <td>$976</td>\n",
       "      <td>34 days</td>\n",
       "      <td>$150/month</td>\n",
       "      <td>1993</td>\n",
       "      <td>—</td>\n",
       "      <td>DEC 21, 2020</td>\n",
       "      <td>271-Shipley-94107</td>\n",
       "      <td>townhouse</td>\n",
       "    </tr>\n",
       "    <tr>\n",
       "      <th>2</th>\n",
       "      <td>678 Grand View Ave</td>\n",
       "      <td>Noe Valley</td>\n",
       "      <td>$1,625,000</td>\n",
       "      <td>3</td>\n",
       "      <td>3</td>\n",
       "      <td>2,300</td>\n",
       "      <td>$707</td>\n",
       "      <td>47 days</td>\n",
       "      <td>$392/month</td>\n",
       "      <td>1986</td>\n",
       "      <td>—</td>\n",
       "      <td>DEC 8, 2020</td>\n",
       "      <td>678-Grand-View-Ave-94114</td>\n",
       "      <td>townhouse</td>\n",
       "    </tr>\n",
       "    <tr>\n",
       "      <th>3</th>\n",
       "      <td>28 Scott Aly</td>\n",
       "      <td>South of Market</td>\n",
       "      <td>$835,000</td>\n",
       "      <td>1</td>\n",
       "      <td>1</td>\n",
       "      <td>—</td>\n",
       "      <td>—</td>\n",
       "      <td>60 days</td>\n",
       "      <td>$227/month</td>\n",
       "      <td>2000</td>\n",
       "      <td>—</td>\n",
       "      <td>NOV 25, 2020</td>\n",
       "      <td>28-Scott-Aly-94107</td>\n",
       "      <td>townhouse</td>\n",
       "    </tr>\n",
       "    <tr>\n",
       "      <th>4</th>\n",
       "      <td>720 York #212</td>\n",
       "      <td>Inner Mission</td>\n",
       "      <td>$800,000</td>\n",
       "      <td>1</td>\n",
       "      <td>1</td>\n",
       "      <td>618</td>\n",
       "      <td>$1,294</td>\n",
       "      <td>62 days</td>\n",
       "      <td>$553/month</td>\n",
       "      <td>—</td>\n",
       "      <td>—</td>\n",
       "      <td>NOV 23, 2020</td>\n",
       "      <td>720-York-St-94110</td>\n",
       "      <td>townhouse</td>\n",
       "    </tr>\n",
       "  </tbody>\n",
       "</table>\n",
       "</div>"
      ],
      "text/plain": [
       "                  Address         Location       Price Beds Baths Sq.Ft.  \\\n",
       "0        4150 17th St #25   Corona Heights  $1,450,000    2     2  1,598   \n",
       "1  271 Shipley St Unit F6  South of Market    $789,000    2     1    808   \n",
       "2      678 Grand View Ave       Noe Valley  $1,625,000    3     3  2,300   \n",
       "3            28 Scott Aly  South of Market    $835,000    1     1      —   \n",
       "4           720 York #212    Inner Mission    $800,000    1     1    618   \n",
       "\n",
       "  $/Sq.Ft. On Redfin         HOA Year Built Lot Size     Date Sold  \\\n",
       "0     $907   19 days  $712/month       1994        —   JAN 5, 2021   \n",
       "1     $976   34 days  $150/month       1993        —  DEC 21, 2020   \n",
       "2     $707   47 days  $392/month       1986        —   DEC 8, 2020   \n",
       "3        —   60 days  $227/month       2000        —  NOV 25, 2020   \n",
       "4   $1,294   62 days  $553/month          —        —  NOV 23, 2020   \n",
       "\n",
       "                   Zip Code  prop_type  \n",
       "0        4150-17th-St-94114  townhouse  \n",
       "1         271-Shipley-94107  townhouse  \n",
       "2  678-Grand-View-Ave-94114  townhouse  \n",
       "3        28-Scott-Aly-94107  townhouse  \n",
       "4         720-York-St-94110  townhouse  "
      ]
     },
     "execution_count": 9,
     "metadata": {},
     "output_type": "execute_result"
    }
   ],
   "source": [
    "property_type = [\"townhouse\"] * 132\n",
    "townhouses[\"prop_type\"] = property_type\n",
    "townhouses.head()"
   ]
  },
  {
   "cell_type": "markdown",
   "id": "voluntary-challenge",
   "metadata": {},
   "source": [
    "### Collecting data for multi-family units sold in the past year"
   ]
  },
  {
   "cell_type": "code",
   "execution_count": null,
   "id": "undefined-cargo",
   "metadata": {},
   "outputs": [],
   "source": [
    "url = \"https://www.redfin.com/city/17151/CA/San-Francisco/filter/property-type=multifamily,include=sold-1yr\"\n",
    "multifamily = data_property_type(url)"
   ]
  },
  {
   "cell_type": "code",
   "execution_count": null,
   "id": "polyphonic-gamma",
   "metadata": {},
   "outputs": [],
   "source": [
    "multifamily.info()"
   ]
  },
  {
   "cell_type": "code",
   "execution_count": null,
   "id": "clean-wednesday",
   "metadata": {},
   "outputs": [],
   "source": [
    "property_type = [\"multi_fam\"] * 350\n",
    "multifamily[\"prop_type\"] = property_type\n",
    "multifamily.head()"
   ]
  },
  {
   "cell_type": "code",
   "execution_count": null,
   "id": "younger-driver",
   "metadata": {
    "scrolled": true
   },
   "outputs": [],
   "source": [
    "#combine all the data together into a single dataframe\n",
    "master = [houses, condos, townhouses, multifamily]\n",
    "df = pd.concat(master, axis = 0, ignore_index = True)"
   ]
  },
  {
   "cell_type": "code",
   "execution_count": null,
   "id": "compatible-clothing",
   "metadata": {},
   "outputs": [],
   "source": [
    "#save data\n",
    "df.to_pickle(\"/Users/sarazzzz/Desktop/Metis/CAMP/Metis_project2/SFproperty_df\")"
   ]
  },
  {
   "cell_type": "code",
   "execution_count": null,
   "id": "complex-station",
   "metadata": {},
   "outputs": [],
   "source": []
  }
 ],
 "metadata": {
  "kernelspec": {
   "display_name": "Python 3",
   "language": "python",
   "name": "python3"
  },
  "language_info": {
   "codemirror_mode": {
    "name": "ipython",
    "version": 3
   },
   "file_extension": ".py",
   "mimetype": "text/x-python",
   "name": "python",
   "nbconvert_exporter": "python",
   "pygments_lexer": "ipython3",
   "version": "3.8.5"
  }
 },
 "nbformat": 4,
 "nbformat_minor": 5
}
