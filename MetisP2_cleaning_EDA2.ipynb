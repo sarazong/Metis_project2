{
 "cells": [
  {
   "cell_type": "markdown",
   "id": "electoral-minister",
   "metadata": {},
   "source": [
    "## DATA CLEANING AND EDA cont."
   ]
  },
  {
   "cell_type": "code",
   "execution_count": 1,
   "id": "instrumental-piece",
   "metadata": {},
   "outputs": [],
   "source": [
    "# import required packages\n",
    "import numpy as np\n",
    "import pandas as pd\n",
    "import matplotlib.pyplot as plt\n",
    "import seaborn as sns\n",
    "import missingno as mn\n",
    "\n",
    "%matplotlib inline\n",
    "%config InlineBackend.figure_format = 'svg'\n",
    "plt.style.use(\"seaborn\")"
   ]
  },
  {
   "cell_type": "code",
   "execution_count": 2,
   "id": "identical-consciousness",
   "metadata": {},
   "outputs": [],
   "source": [
    "df = pd.read_pickle(\"project2_data/SFproperty_df\")"
   ]
  },
  {
   "cell_type": "code",
   "execution_count": 3,
   "id": "narrative-keyboard",
   "metadata": {
    "scrolled": true
   },
   "outputs": [
    {
     "name": "stdout",
     "output_type": "stream",
     "text": [
      "<class 'pandas.core.frame.DataFrame'>\n",
      "RangeIndex: 1182 entries, 0 to 1181\n",
      "Data columns (total 14 columns):\n",
      " #   Column      Non-Null Count  Dtype \n",
      "---  ------      --------------  ----- \n",
      " 0   Address     1182 non-null   object\n",
      " 1   Location    1182 non-null   object\n",
      " 2   Price       1182 non-null   object\n",
      " 3   Beds        1182 non-null   object\n",
      " 4   Baths       1182 non-null   object\n",
      " 5   Sq.Ft.      1182 non-null   object\n",
      " 6   $/Sq.Ft.    1182 non-null   object\n",
      " 7   On Redfin   1182 non-null   object\n",
      " 8   HOA         1182 non-null   object\n",
      " 9   Year Built  1182 non-null   object\n",
      " 10  Lot Size    1182 non-null   object\n",
      " 11  Date Sold   1182 non-null   object\n",
      " 12  Zip Code    1182 non-null   object\n",
      " 13  prop_type   1182 non-null   object\n",
      "dtypes: object(14)\n",
      "memory usage: 129.4+ KB\n"
     ]
    }
   ],
   "source": [
    "df.info()"
   ]
  },
  {
   "cell_type": "code",
   "execution_count": null,
   "id": "lovely-penetration",
   "metadata": {},
   "outputs": [],
   "source": []
  },
  {
   "cell_type": "code",
   "execution_count": null,
   "id": "herbal-divorce",
   "metadata": {},
   "outputs": [],
   "source": []
  },
  {
   "cell_type": "code",
   "execution_count": null,
   "id": "failing-smoke",
   "metadata": {},
   "outputs": [],
   "source": []
  },
  {
   "cell_type": "code",
   "execution_count": null,
   "id": "convertible-mauritius",
   "metadata": {},
   "outputs": [],
   "source": []
  },
  {
   "cell_type": "code",
   "execution_count": null,
   "id": "acting-slovak",
   "metadata": {},
   "outputs": [],
   "source": []
  },
  {
   "cell_type": "code",
   "execution_count": null,
   "id": "preliminary-hanging",
   "metadata": {},
   "outputs": [],
   "source": []
  },
  {
   "cell_type": "code",
   "execution_count": null,
   "id": "swiss-israeli",
   "metadata": {},
   "outputs": [],
   "source": []
  },
  {
   "cell_type": "code",
   "execution_count": null,
   "id": "false-shower",
   "metadata": {},
   "outputs": [],
   "source": []
  },
  {
   "cell_type": "code",
   "execution_count": null,
   "id": "concerned-dress",
   "metadata": {},
   "outputs": [],
   "source": []
  },
  {
   "cell_type": "code",
   "execution_count": null,
   "id": "recorded-drill",
   "metadata": {},
   "outputs": [],
   "source": []
  },
  {
   "cell_type": "markdown",
   "id": "diagnostic-compensation",
   "metadata": {},
   "source": [
    "### LOOKING into missing values in size"
   ]
  },
  {
   "cell_type": "code",
   "execution_count": null,
   "id": "identical-oxide",
   "metadata": {
    "scrolled": true
   },
   "outputs": [],
   "source": [
    "df[df[\"Sq.Ft.\"].isna()].sort_values(\"Price\", ascending = True).head()"
   ]
  },
  {
   "cell_type": "code",
   "execution_count": null,
   "id": "julian-grain",
   "metadata": {
    "scrolled": true
   },
   "outputs": [],
   "source": [
    "df[df[\"Sq.Ft.\"].isna()].sort_values(\"Price\", ascending = True).tail()"
   ]
  },
  {
   "cell_type": "code",
   "execution_count": null,
   "id": "photographic-vector",
   "metadata": {},
   "outputs": [],
   "source": [
    "#can I fill in missing size with Price/($/Sq.Ft.)??\n",
    "#$/Sq.Ft. has more missing values than size, cannot be use to fill in missing values in size\n",
    "mask = (df[\"Sq.Ft.\"].isna()) & (df[\"$/Sq.Ft.\"] == \"—\")\n",
    "len(df[mask])"
   ]
  },
  {
   "cell_type": "markdown",
   "id": "emerging-newport",
   "metadata": {},
   "source": [
    "### ^ CONCLUSION: missing values can be filled in from individual property page <br> Dropping observation with missing values (back to scraping if more time)"
   ]
  },
  {
   "cell_type": "code",
   "execution_count": null,
   "id": "following-namibia",
   "metadata": {},
   "outputs": [],
   "source": []
  },
  {
   "cell_type": "code",
   "execution_count": null,
   "id": "surprised-garage",
   "metadata": {
    "scrolled": false
   },
   "outputs": [],
   "source": [
    "#check other missing values\n",
    "df.info()"
   ]
  },
  {
   "cell_type": "markdown",
   "id": "premier-venture",
   "metadata": {},
   "source": [
    "### NOW GOING BACK TO MISSING VALUES in Beds and Baths after removing missing values in size"
   ]
  },
  {
   "cell_type": "code",
   "execution_count": null,
   "id": "signed-ministry",
   "metadata": {
    "scrolled": true
   },
   "outputs": [],
   "source": [
    "#check missing values in Beds\n",
    "print(df[\"Beds\"].isna().sum())\n",
    "df[df[\"Beds\"].isna()].sort_values(\"prop_type\").head()#still have 31 missing, 30 multi-family units...T.T\n",
    "df[df[\"Beds\"].isna()].sort_values(\"prop_type\").tail()"
   ]
  },
  {
   "cell_type": "code",
   "execution_count": null,
   "id": "atlantic-madness",
   "metadata": {
    "scrolled": false
   },
   "outputs": [],
   "source": [
    "len(df[df[\"prop_type\"] == \"multi_fam\"])"
   ]
  },
  {
   "cell_type": "code",
   "execution_count": null,
   "id": "disturbed-publicity",
   "metadata": {},
   "outputs": [],
   "source": [
    "#check missing values in Baths\n",
    "print(df[\"Baths\"].isna().sum())\n",
    "df[df[\"Baths\"].isna()].sort_values(\"prop_type\").head(10)#still have 99 missing values, 92 multi-family units\n",
    "df[df[\"Baths\"].isna()].sort_values(\"prop_type\").tail()"
   ]
  },
  {
   "cell_type": "markdown",
   "id": "infinite-idaho",
   "metadata": {},
   "source": [
    "### ^ CONCLUSION: some values can be filled from indivial page, and both Beds and Baths are missing @ random (mostly missing in multi-family units) -> Safe to drop NAs"
   ]
  },
  {
   "cell_type": "code",
   "execution_count": null,
   "id": "smart-tobago",
   "metadata": {
    "scrolled": true
   },
   "outputs": [],
   "source": [
    "#drop observations with missing values in Beds and Baths\n",
    "df.dropna(subset = [\"Beds\", \"Baths\"], axis = 0, inplace = True)\n",
    "df.info()"
   ]
  },
  {
   "cell_type": "code",
   "execution_count": null,
   "id": "resident-commander",
   "metadata": {},
   "outputs": [],
   "source": [
    "#check missing values in HOA\n",
    "print(len(df[df[\"HOA\"] == \"\"])) #no missing value in HOA\n",
    "df[\"HOA\"].value_counts() \n",
    "\n",
    "#turn HOA into numeric\n",
    "df[\"HOA\"] = [\"\".join(h.split(\"/\")[0].strip(\"$\").split(\",\")) for h in df[\"HOA\"]]\n",
    "df[\"HOA\"].replace({\"None\":\"0\"}, inplace = True)\n",
    "df[\"HOA\"] = pd.to_numeric(df[\"HOA\"])\n",
    "df[\"HOA\"].value_counts()"
   ]
  },
  {
   "cell_type": "code",
   "execution_count": null,
   "id": "southwest-format",
   "metadata": {},
   "outputs": [],
   "source": [
    "#check missing values in Year Built\n",
    "print(len(df[df[\"Year Built\"] == \"—\"])) #28 missing values in Year Built\n",
    "df[\"Year Built\"].replace({\"—\":None}, inplace = True)\n",
    "\n",
    "#convert Year Built to an interger\n",
    "df[\"Year Built\"] = pd.to_numeric(df[\"Year Built\"]).astype(\"Int64\")\n",
    "df[\"Year Built\"].value_counts().sort_index(ascending = False)\n",
    "df[\"Year Built\"].isna().sum()"
   ]
  },
  {
   "cell_type": "markdown",
   "id": "current-correction",
   "metadata": {},
   "source": [
    "### LOOK at missing values in Year Built"
   ]
  },
  {
   "cell_type": "code",
   "execution_count": null,
   "id": "broke-velvet",
   "metadata": {
    "scrolled": true
   },
   "outputs": [],
   "source": [
    "df[df[\"Year Built\"].isna()].sort_values(\"Price\").head(8)"
   ]
  },
  {
   "cell_type": "code",
   "execution_count": null,
   "id": "legitimate-vault",
   "metadata": {
    "scrolled": false
   },
   "outputs": [],
   "source": [
    "df[df[\"Year Built\"].isna()].sort_values(\"Price\").tail()"
   ]
  },
  {
   "cell_type": "code",
   "execution_count": null,
   "id": "brutal-stream",
   "metadata": {},
   "outputs": [],
   "source": [
    "#look at distribution of Year Built\n",
    "YB_noNA = df[df[\"Year Built\"].notnull()][\"Year Built\"]\n",
    "plt.hist(YB_noNA, bins = 100)\n",
    "plt.title(\"Property Distribution by Year Built\", fontsize = 15)\n",
    "plt.ylabel(\"Number of Properties\", fontsize = 12)\n",
    "plt.xlabel(\"Year Built\", fontsize = 12);"
   ]
  },
  {
   "cell_type": "code",
   "execution_count": null,
   "id": "recognized-vanilla",
   "metadata": {},
   "outputs": [],
   "source": [
    "# should do this later after converting other features to the appropriate data type\n",
    "\n",
    "plt.rcParams[\"figure.figsize\"] = [6, 4]\n",
    "mn.matrix(df[[\"Price\", \"Beds\", \"Baths\"]])"
   ]
  },
  {
   "cell_type": "code",
   "execution_count": null,
   "id": "personalized-channel",
   "metadata": {},
   "outputs": [],
   "source": [
    "# drop records with missing values in Price and a record with Price misrecorded\n",
    "print(df[\"Price\"].isna().sum()) #13 obs missing Price\n",
    "df[df[\"Price\"].isna()]\n",
    "df[df[\"Price\"].isna()].groupby([\"prop_type\"])[\"prop_type\"].count()\n",
    "\n",
    "df.dropna(subset = [\"Price\"], axis = 0, inplace = True)\n",
    "df.info()"
   ]
  },
  {
   "cell_type": "markdown",
   "id": "differential-maryland",
   "metadata": {},
   "source": [
    "### ^ CONCLUSION: Looks like missing at completely random, info. can be found in individual page <br> Impute with random sampling from the range of Year Built"
   ]
  },
  {
   "cell_type": "code",
   "execution_count": null,
   "id": "printable-piece",
   "metadata": {},
   "outputs": [],
   "source": [
    "#number of NAs in Year Built\n",
    "mask = df[\"Year Built\"].isna()\n",
    "YB_NAs = mask.sum()\n",
    "\n",
    "#fill in NAs with random sampling\n",
    "fill = np.random.choice(df[df[\"Year Built\"].notnull()][\"Year Built\"].values, size = YB_NAs)\n",
    "df.loc[mask, \"Year Built\"] = fill"
   ]
  },
  {
   "cell_type": "code",
   "execution_count": null,
   "id": "sophisticated-english",
   "metadata": {},
   "outputs": [],
   "source": [
    "df.info()"
   ]
  },
  {
   "cell_type": "code",
   "execution_count": null,
   "id": "elementary-combining",
   "metadata": {},
   "outputs": [],
   "source": [
    "#double check distribution of Year Built\n",
    "plt.hist(df[\"Year Built\"], bins = 100)\n",
    "plt.title(\"Property Distribution by Year Built\", fontsize = 15)\n",
    "plt.ylabel(\"Number of Properties\", fontsize = 12)\n",
    "plt.xlabel(\"Year Built\", fontsize = 12);"
   ]
  },
  {
   "cell_type": "code",
   "execution_count": null,
   "id": "educated-catalog",
   "metadata": {},
   "outputs": [],
   "source": [
    "#check missing values in Lot Size and Date Sold\n",
    "print(len(df[df[\"Lot Size\"] == \"—\"])) #368 missing values in LotSize, make sense to be missing for condo\n",
    "\n",
    "print(len(df[df[\"Date Sold\"] == \"—\"]))\n",
    "print(len(df[df[\"Date Sold\"] == \"\"])) #0 missing values in Date Sold, should divide in month and year\n",
    "\n",
    "#extract the year and month from Date Sold\n",
    "df[\"year_sold\"] = pd.DatetimeIndex(df[\"Date Sold\"]).year\n",
    "df[\"month_sold\"] = pd.DatetimeIndex(df[\"Date Sold\"]).month"
   ]
  },
  {
   "cell_type": "code",
   "execution_count": null,
   "id": "dress-fancy",
   "metadata": {},
   "outputs": [],
   "source": [
    "# #Does property price goes up or down the past year?\n",
    "# plt.rcParams[\"figure.figsize\"] = [6,6]\n",
    "# plt.rcParams[\"figure.dpi\"] = 200\n",
    "\n",
    "# price_month = df.groupby([\"year_sold\", \"month_sold\"])[\"Price\"].median()\n",
    "# num_prop = df.groupby([\"year_sold\", \"month_sold\"])[\"Price\"].count()\n",
    "\n",
    "# plt.subplot(2,1,1)\n",
    "\n",
    "# plt.plot(range(len(price_month)), price_month, linewidth = 3)\n",
    "# plt.title(\"Median Property Price in the Past Year\", fontsize = 15, weight = \"bold\")\n",
    "# plt.ylabel(\"Median Property Price\", fontsize = 12, weight = \"bold\")\n",
    "# ytick_lab = [\"1.5million\", \"1.6million\", \"1.7million\", \"1.8million\", \"1.9million\"]\n",
    "# plt.yticks(ticks = list(range(1500000, 2000000, 100000)), labels = ytick_lab)\n",
    "\n",
    "# plt.subplot(2,1,2)\n",
    "# #change color of every other bar\n",
    "# barlist = plt.bar(range(len(num_prop)), num_prop)\n",
    "# for bar in range(0, len(barlist), 2):\n",
    "#     barlist[bar].set_color(\"lightblue\")\n",
    "# plt.title(\"Number of Property Sold in the Past Year\", fontsize = 15, weight = \"bold\")\n",
    "# plt.ylabel(\"Number of Property\", fontsize = 12, weight = \"bold\")\n",
    "# plt.xlabel(\"Jan 2020 to Jan 2021\", fontsize = 12, weight = \"bold\")\n",
    "# xtick_lab = [\"Jan 20\", \"Feb 20\", \"Mar 20\", \"Apr 20\", \"May 20\", \"Jun 20\", \n",
    "#              \"Jul 20\", \"Aug 20\", \"Sep 20\", \"Oct 20\", \"Nov 20\", \"Dec 20\", \"Jan 21\"]\n",
    "# plt.xticks(range(len(price_month)), xtick_lab, rotation = 45)\n",
    "# plt.tight_layout();\n",
    "# plt.savefig(\"project2_images/median_price_past_year.png\");"
   ]
  },
  {
   "cell_type": "code",
   "execution_count": null,
   "id": "reverse-correlation",
   "metadata": {},
   "outputs": [],
   "source": [
    "#Does property price goes up or down the past year?\n",
    "price_month = df.groupby([\"year_sold\", \"month_sold\"])[\"Price\"].median()\n",
    "num_prop = df.groupby([\"year_sold\", \"month_sold\"])[\"Price\"].count()\n",
    "\n",
    "plt.rcParams[\"figure.figsize\"] = [6,6]\n",
    "plt.rcParams[\"figure.dpi\"] = 200\n",
    "fig, axes = plt.subplots(2, 1, sharex=True)\n",
    "\n",
    "ax = axes[0]\n",
    "\n",
    "ax.plot(range(len(price_month)), price_month, linewidth = 3)\n",
    "ax.set_title(\"Median Property Price in the Past Year\", fontsize = 15, weight = \"bold\")\n",
    "ax.set_ylabel(\"Median Property Price\", fontsize = 12, weight = \"bold\")\n",
    "ax.set_yticks(ticks = list(range(1500000, 2000000, 100000)))\n",
    "ax.set_yticklabels([\"1.4million\", \"1.5million\", \"1.6million\", \"1.7million\", \"1.8million\"])\n",
    "\n",
    "\n",
    "ax2 = axes[1]\n",
    "#change color of every other bar\n",
    "barlist = ax2.bar(range(len(num_prop)), num_prop)\n",
    "for bar in range(0, len(barlist), 2):\n",
    "    barlist[bar].set_color(\"lightblue\")\n",
    "ax2.set_title(\"Number of Property Sold in the Past Year\", fontsize = 15, weight = \"bold\")\n",
    "ax2.set_ylabel(\"Number of Property\", fontsize = 12, weight = \"bold\")\n",
    "\n",
    "plt.xlabel(\"Jan 2020 to Jan 2021\", fontsize = 12, weight = \"bold\")\n",
    "xtick_lab = [\"Jan 20\", \"Feb 20\", \"Mar 20\", \"Apr 20\", \"May 20\", \"Jun 20\", \n",
    "             \"Jul 20\", \"Aug 20\", \"Sep 20\", \"Oct 20\", \"Nov 20\", \"Dec 20\", \"Jan 21\"]\n",
    "plt.xticks(range(len(price_month)), xtick_lab, rotation = 45)\n",
    "\n",
    "plt.tight_layout();\n",
    "plt.savefig(\"project2_images/median_price_past_year.png\");"
   ]
  },
  {
   "cell_type": "code",
   "execution_count": null,
   "id": "junior-demonstration",
   "metadata": {
    "scrolled": true
   },
   "outputs": [],
   "source": [
    "#check missing values in Zip Code\n",
    "print(len(df[df[\"Zip Code\"] == \"—\"]))\n",
    "print(len(df[df[\"Zip Code\"] == \"\"])) #0 missing values in Zip Code, need to extract Zip Code from of the string\n",
    "\n",
    "#extrac zip code from the string\n",
    "df[\"Zip Code\"] = [zip.split(\"-\")[-1] for zip in df[\"Zip Code\"]]\n",
    "df[\"Zip Code\"].value_counts()"
   ]
  },
  {
   "cell_type": "code",
   "execution_count": null,
   "id": "hydraulic-damages",
   "metadata": {},
   "outputs": [],
   "source": [
    "#one zip code (one listing) maps to Daly City, delete\n",
    "df.drop(df[df[\"Zip Code\"] == \"94014\"].index, inplace = True)"
   ]
  },
  {
   "cell_type": "code",
   "execution_count": null,
   "id": "worst-acting",
   "metadata": {},
   "outputs": [],
   "source": [
    "df.info()"
   ]
  },
  {
   "cell_type": "code",
   "execution_count": null,
   "id": "broad-highland",
   "metadata": {},
   "outputs": [],
   "source": [
    "df.to_pickle(\"/Users/sarazzzz/Desktop/Metis/CAMP/Metis_project2/prop_df_cleaned\")"
   ]
  },
  {
   "cell_type": "code",
   "execution_count": null,
   "id": "known-wrong",
   "metadata": {},
   "outputs": [],
   "source": []
  }
 ],
 "metadata": {
  "kernelspec": {
   "display_name": "Python 3",
   "language": "python",
   "name": "python3"
  },
  "language_info": {
   "codemirror_mode": {
    "name": "ipython",
    "version": 3
   },
   "file_extension": ".py",
   "mimetype": "text/x-python",
   "name": "python",
   "nbconvert_exporter": "python",
   "pygments_lexer": "ipython3",
   "version": "3.8.5"
  }
 },
 "nbformat": 4,
 "nbformat_minor": 5
}
